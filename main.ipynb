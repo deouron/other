{
 "cells": [
  {
   "cell_type": "code",
   "execution_count": 115,
   "outputs": [],
   "source": [
    "import pandas as pd"
   ],
   "metadata": {
    "collapsed": false,
    "ExecuteTime": {
     "end_time": "2024-03-19T17:59:23.216829Z",
     "start_time": "2024-03-19T17:59:23.185541Z"
    }
   }
  },
  {
   "cell_type": "code",
   "execution_count": 116,
   "outputs": [
    {
     "data": {
      "text/plain": "     0      1      2  3   4  5      6  7  8   9  10  11   12      13  \\\n288  1  39.50  4.250  2   8  5  6.500  A  1  16   0   2  117  1211.0   \n295  1  26.75  1.125  2  14  8  1.250  A  0   0   0   2    0  5299.0   \n135  0  23.58  0.830  2  11  4  0.415  B  1   1   1   2  200    12.0   \n\n        target  \n288      Churn  \n295      Churn  \n135  Not churn  ",
      "text/html": "<div>\n<style scoped>\n    .dataframe tbody tr th:only-of-type {\n        vertical-align: middle;\n    }\n\n    .dataframe tbody tr th {\n        vertical-align: top;\n    }\n\n    .dataframe thead th {\n        text-align: right;\n    }\n</style>\n<table border=\"1\" class=\"dataframe\">\n  <thead>\n    <tr style=\"text-align: right;\">\n      <th></th>\n      <th>0</th>\n      <th>1</th>\n      <th>2</th>\n      <th>3</th>\n      <th>4</th>\n      <th>5</th>\n      <th>6</th>\n      <th>7</th>\n      <th>8</th>\n      <th>9</th>\n      <th>10</th>\n      <th>11</th>\n      <th>12</th>\n      <th>13</th>\n      <th>target</th>\n    </tr>\n  </thead>\n  <tbody>\n    <tr>\n      <th>288</th>\n      <td>1</td>\n      <td>39.50</td>\n      <td>4.250</td>\n      <td>2</td>\n      <td>8</td>\n      <td>5</td>\n      <td>6.500</td>\n      <td>A</td>\n      <td>1</td>\n      <td>16</td>\n      <td>0</td>\n      <td>2</td>\n      <td>117</td>\n      <td>1211.0</td>\n      <td>Churn</td>\n    </tr>\n    <tr>\n      <th>295</th>\n      <td>1</td>\n      <td>26.75</td>\n      <td>1.125</td>\n      <td>2</td>\n      <td>14</td>\n      <td>8</td>\n      <td>1.250</td>\n      <td>A</td>\n      <td>0</td>\n      <td>0</td>\n      <td>0</td>\n      <td>2</td>\n      <td>0</td>\n      <td>5299.0</td>\n      <td>Churn</td>\n    </tr>\n    <tr>\n      <th>135</th>\n      <td>0</td>\n      <td>23.58</td>\n      <td>0.830</td>\n      <td>2</td>\n      <td>11</td>\n      <td>4</td>\n      <td>0.415</td>\n      <td>B</td>\n      <td>1</td>\n      <td>1</td>\n      <td>1</td>\n      <td>2</td>\n      <td>200</td>\n      <td>12.0</td>\n      <td>Not churn</td>\n    </tr>\n  </tbody>\n</table>\n</div>"
     },
     "execution_count": 116,
     "metadata": {},
     "output_type": "execute_result"
    }
   ],
   "source": [
    "train_df = pd.read_csv('TrainData.csv')\n",
    "test_df = pd.read_csv('TestData.csv')\n",
    "\n",
    "train_df.sample(3)"
   ],
   "metadata": {
    "collapsed": false,
    "ExecuteTime": {
     "end_time": "2024-03-19T17:59:23.217593Z",
     "start_time": "2024-03-19T17:59:23.188935Z"
    }
   }
  },
  {
   "cell_type": "code",
   "execution_count": 117,
   "outputs": [
    {
     "name": "stdout",
     "output_type": "stream",
     "text": [
      "<class 'pandas.core.frame.DataFrame'>\n",
      "RangeIndex: 513 entries, 0 to 512\n",
      "Data columns (total 15 columns):\n",
      " #   Column  Non-Null Count  Dtype  \n",
      "---  ------  --------------  -----  \n",
      " 0   0       513 non-null    int64  \n",
      " 1   1       508 non-null    float64\n",
      " 2   2       513 non-null    float64\n",
      " 3   3       513 non-null    int64  \n",
      " 4   4       513 non-null    int64  \n",
      " 5   5       513 non-null    int64  \n",
      " 6   6       513 non-null    float64\n",
      " 7   7       513 non-null    object \n",
      " 8   8       513 non-null    int64  \n",
      " 9   9       513 non-null    int64  \n",
      " 10  10      513 non-null    int64  \n",
      " 11  11      513 non-null    int64  \n",
      " 12  12      513 non-null    int64  \n",
      " 13  13      510 non-null    float64\n",
      " 14  target  513 non-null    object \n",
      "dtypes: float64(4), int64(9), object(2)\n",
      "memory usage: 60.2+ KB\n"
     ]
    }
   ],
   "source": [
    "train_df.info()"
   ],
   "metadata": {
    "collapsed": false,
    "ExecuteTime": {
     "end_time": "2024-03-19T17:59:23.246738Z",
     "start_time": "2024-03-19T17:59:23.200636Z"
    }
   }
  },
  {
   "cell_type": "code",
   "execution_count": 118,
   "outputs": [
    {
     "data": {
      "text/plain": "31.283225149082394"
     },
     "execution_count": 118,
     "metadata": {},
     "output_type": "execute_result"
    }
   ],
   "source": [
    "mean_1 = train_df['1'].mean()\n",
    "train_df['1'] = train_df['1'].fillna(mean_1)\n",
    "train_df['1'].mean()"
   ],
   "metadata": {
    "collapsed": false,
    "ExecuteTime": {
     "end_time": "2024-03-19T17:59:23.247161Z",
     "start_time": "2024-03-19T17:59:23.204069Z"
    }
   }
  },
  {
   "cell_type": "code",
   "execution_count": 119,
   "outputs": [
    {
     "name": "stdout",
     "output_type": "stream",
     "text": [
      "<class 'pandas.core.frame.DataFrame'>\n",
      "RangeIndex: 513 entries, 0 to 512\n",
      "Data columns (total 15 columns):\n",
      " #   Column  Non-Null Count  Dtype  \n",
      "---  ------  --------------  -----  \n",
      " 0   0       513 non-null    int64  \n",
      " 1   1       513 non-null    float64\n",
      " 2   2       513 non-null    float64\n",
      " 3   3       513 non-null    int64  \n",
      " 4   4       513 non-null    int64  \n",
      " 5   5       513 non-null    int64  \n",
      " 6   6       513 non-null    float64\n",
      " 7   7       513 non-null    object \n",
      " 8   8       513 non-null    int64  \n",
      " 9   9       513 non-null    int64  \n",
      " 10  10      513 non-null    int64  \n",
      " 11  11      513 non-null    int64  \n",
      " 12  12      513 non-null    int64  \n",
      " 13  13      510 non-null    float64\n",
      " 14  target  513 non-null    object \n",
      "dtypes: float64(4), int64(9), object(2)\n",
      "memory usage: 60.2+ KB\n"
     ]
    }
   ],
   "source": [
    "train_df.info()"
   ],
   "metadata": {
    "collapsed": false,
    "ExecuteTime": {
     "end_time": "2024-03-19T17:59:23.247285Z",
     "start_time": "2024-03-19T17:59:23.207899Z"
    }
   }
  },
  {
   "cell_type": "code",
   "execution_count": 120,
   "outputs": [],
   "source": [
    "train_df = train_df.dropna()"
   ],
   "metadata": {
    "collapsed": false,
    "ExecuteTime": {
     "end_time": "2024-03-19T17:59:23.247604Z",
     "start_time": "2024-03-19T17:59:23.217253Z"
    }
   }
  },
  {
   "cell_type": "code",
   "execution_count": 121,
   "outputs": [
    {
     "name": "stdout",
     "output_type": "stream",
     "text": [
      "<class 'pandas.core.frame.DataFrame'>\n",
      "Index: 510 entries, 0 to 512\n",
      "Data columns (total 15 columns):\n",
      " #   Column  Non-Null Count  Dtype  \n",
      "---  ------  --------------  -----  \n",
      " 0   0       510 non-null    int64  \n",
      " 1   1       510 non-null    float64\n",
      " 2   2       510 non-null    float64\n",
      " 3   3       510 non-null    int64  \n",
      " 4   4       510 non-null    int64  \n",
      " 5   5       510 non-null    int64  \n",
      " 6   6       510 non-null    float64\n",
      " 7   7       510 non-null    object \n",
      " 8   8       510 non-null    int64  \n",
      " 9   9       510 non-null    int64  \n",
      " 10  10      510 non-null    int64  \n",
      " 11  11      510 non-null    int64  \n",
      " 12  12      510 non-null    int64  \n",
      " 13  13      510 non-null    float64\n",
      " 14  target  510 non-null    object \n",
      "dtypes: float64(4), int64(9), object(2)\n",
      "memory usage: 63.8+ KB\n"
     ]
    }
   ],
   "source": [
    "train_df.info()"
   ],
   "metadata": {
    "collapsed": false,
    "ExecuteTime": {
     "end_time": "2024-03-19T17:59:23.247876Z",
     "start_time": "2024-03-19T17:59:23.220163Z"
    }
   }
  },
  {
   "cell_type": "code",
   "execution_count": 122,
   "outputs": [
    {
     "data": {
      "text/plain": "    0      1      2  3   4  5     6  7  8  9  10  11   12   13     target\n19  1  21.25  1.500  2   9  4  1.50  B  0  0   0   2  150  9.0      Chorn\n80  0  22.67  0.335  2  11  4  0.75  B  0  0   0   1  160  1.0  Not chorn",
      "text/html": "<div>\n<style scoped>\n    .dataframe tbody tr th:only-of-type {\n        vertical-align: middle;\n    }\n\n    .dataframe tbody tr th {\n        vertical-align: top;\n    }\n\n    .dataframe thead th {\n        text-align: right;\n    }\n</style>\n<table border=\"1\" class=\"dataframe\">\n  <thead>\n    <tr style=\"text-align: right;\">\n      <th></th>\n      <th>0</th>\n      <th>1</th>\n      <th>2</th>\n      <th>3</th>\n      <th>4</th>\n      <th>5</th>\n      <th>6</th>\n      <th>7</th>\n      <th>8</th>\n      <th>9</th>\n      <th>10</th>\n      <th>11</th>\n      <th>12</th>\n      <th>13</th>\n      <th>target</th>\n    </tr>\n  </thead>\n  <tbody>\n    <tr>\n      <th>19</th>\n      <td>1</td>\n      <td>21.25</td>\n      <td>1.500</td>\n      <td>2</td>\n      <td>9</td>\n      <td>4</td>\n      <td>1.50</td>\n      <td>B</td>\n      <td>0</td>\n      <td>0</td>\n      <td>0</td>\n      <td>2</td>\n      <td>150</td>\n      <td>9.0</td>\n      <td>Chorn</td>\n    </tr>\n    <tr>\n      <th>80</th>\n      <td>0</td>\n      <td>22.67</td>\n      <td>0.335</td>\n      <td>2</td>\n      <td>11</td>\n      <td>4</td>\n      <td>0.75</td>\n      <td>B</td>\n      <td>0</td>\n      <td>0</td>\n      <td>0</td>\n      <td>1</td>\n      <td>160</td>\n      <td>1.0</td>\n      <td>Not chorn</td>\n    </tr>\n  </tbody>\n</table>\n</div>"
     },
     "execution_count": 122,
     "metadata": {},
     "output_type": "execute_result"
    }
   ],
   "source": [
    "train_df[(train_df['target'] != 'Churn') & (train_df['target'] != 'Not churn')]"
   ],
   "metadata": {
    "collapsed": false,
    "ExecuteTime": {
     "end_time": "2024-03-19T17:59:23.284054Z",
     "start_time": "2024-03-19T17:59:23.225651Z"
    }
   }
  },
  {
   "cell_type": "code",
   "execution_count": 123,
   "outputs": [],
   "source": [
    "train_df.loc[80, 'target'] = 'Not churn'"
   ],
   "metadata": {
    "collapsed": false,
    "ExecuteTime": {
     "end_time": "2024-03-19T17:59:23.284343Z",
     "start_time": "2024-03-19T17:59:23.232504Z"
    }
   }
  },
  {
   "cell_type": "code",
   "execution_count": 124,
   "outputs": [],
   "source": [
    "train_df.loc[19, 'target'] = 'Churn'"
   ],
   "metadata": {
    "collapsed": false,
    "ExecuteTime": {
     "end_time": "2024-03-19T17:59:23.284400Z",
     "start_time": "2024-03-19T17:59:23.234868Z"
    }
   }
  },
  {
   "cell_type": "code",
   "execution_count": 125,
   "outputs": [
    {
     "data": {
      "text/plain": "Empty DataFrame\nColumns: [0, 1, 2, 3, 4, 5, 6, 7, 8, 9, 10, 11, 12, 13, target]\nIndex: []",
      "text/html": "<div>\n<style scoped>\n    .dataframe tbody tr th:only-of-type {\n        vertical-align: middle;\n    }\n\n    .dataframe tbody tr th {\n        vertical-align: top;\n    }\n\n    .dataframe thead th {\n        text-align: right;\n    }\n</style>\n<table border=\"1\" class=\"dataframe\">\n  <thead>\n    <tr style=\"text-align: right;\">\n      <th></th>\n      <th>0</th>\n      <th>1</th>\n      <th>2</th>\n      <th>3</th>\n      <th>4</th>\n      <th>5</th>\n      <th>6</th>\n      <th>7</th>\n      <th>8</th>\n      <th>9</th>\n      <th>10</th>\n      <th>11</th>\n      <th>12</th>\n      <th>13</th>\n      <th>target</th>\n    </tr>\n  </thead>\n  <tbody>\n  </tbody>\n</table>\n</div>"
     },
     "execution_count": 125,
     "metadata": {},
     "output_type": "execute_result"
    }
   ],
   "source": [
    "train_df[(train_df['target'] != 'Churn') & (train_df['target'] != 'Not churn')]"
   ],
   "metadata": {
    "collapsed": false,
    "ExecuteTime": {
     "end_time": "2024-03-19T17:59:23.284509Z",
     "start_time": "2024-03-19T17:59:23.239161Z"
    }
   }
  },
  {
   "cell_type": "code",
   "execution_count": 126,
   "outputs": [
    {
     "data": {
      "text/plain": "     0     1     2  3   4  5     6  7  8  9  10  11   12   13 target\n145  1  32.0  1.75  1  10  8  0.04  A  0  0   1   2  393  1.0  Churn",
      "text/html": "<div>\n<style scoped>\n    .dataframe tbody tr th:only-of-type {\n        vertical-align: middle;\n    }\n\n    .dataframe tbody tr th {\n        vertical-align: top;\n    }\n\n    .dataframe thead th {\n        text-align: right;\n    }\n</style>\n<table border=\"1\" class=\"dataframe\">\n  <thead>\n    <tr style=\"text-align: right;\">\n      <th></th>\n      <th>0</th>\n      <th>1</th>\n      <th>2</th>\n      <th>3</th>\n      <th>4</th>\n      <th>5</th>\n      <th>6</th>\n      <th>7</th>\n      <th>8</th>\n      <th>9</th>\n      <th>10</th>\n      <th>11</th>\n      <th>12</th>\n      <th>13</th>\n      <th>target</th>\n    </tr>\n  </thead>\n  <tbody>\n    <tr>\n      <th>145</th>\n      <td>1</td>\n      <td>32.0</td>\n      <td>1.75</td>\n      <td>1</td>\n      <td>10</td>\n      <td>8</td>\n      <td>0.04</td>\n      <td>A</td>\n      <td>0</td>\n      <td>0</td>\n      <td>1</td>\n      <td>2</td>\n      <td>393</td>\n      <td>1.0</td>\n      <td>Churn</td>\n    </tr>\n  </tbody>\n</table>\n</div>"
     },
     "execution_count": 126,
     "metadata": {},
     "output_type": "execute_result"
    }
   ],
   "source": [
    "train_df.sample(1)"
   ],
   "metadata": {
    "collapsed": false,
    "ExecuteTime": {
     "end_time": "2024-03-19T17:59:23.284618Z",
     "start_time": "2024-03-19T17:59:23.244230Z"
    }
   }
  },
  {
   "cell_type": "code",
   "execution_count": 127,
   "outputs": [],
   "source": [
    "train_df.loc[train_df['target'] == 'Churn', 'target'] = 1"
   ],
   "metadata": {
    "collapsed": false,
    "ExecuteTime": {
     "end_time": "2024-03-19T17:59:23.284675Z",
     "start_time": "2024-03-19T17:59:23.247905Z"
    }
   }
  },
  {
   "cell_type": "code",
   "execution_count": 128,
   "outputs": [],
   "source": [
    "train_df.loc[train_df['target'] == 'Not churn', 'target'] = 0"
   ],
   "metadata": {
    "collapsed": false,
    "ExecuteTime": {
     "end_time": "2024-03-19T17:59:23.291150Z",
     "start_time": "2024-03-19T17:59:23.252156Z"
    }
   }
  },
  {
   "cell_type": "code",
   "execution_count": 129,
   "outputs": [
    {
     "data": {
      "text/plain": "     0      1     2  3  4  5      6  7  8  9  10  11   12    13 target\n492  1  17.58  10.0  2  9  8  0.165  B  1  1   0   2  120   2.0      0\n476  1  27.42  12.5  2  6  5  0.250  B  0  0   1   2  720   1.0      0\n12   0  30.67  12.0  2  8  4  2.000  A  1  1   0   2  220  20.0      1",
      "text/html": "<div>\n<style scoped>\n    .dataframe tbody tr th:only-of-type {\n        vertical-align: middle;\n    }\n\n    .dataframe tbody tr th {\n        vertical-align: top;\n    }\n\n    .dataframe thead th {\n        text-align: right;\n    }\n</style>\n<table border=\"1\" class=\"dataframe\">\n  <thead>\n    <tr style=\"text-align: right;\">\n      <th></th>\n      <th>0</th>\n      <th>1</th>\n      <th>2</th>\n      <th>3</th>\n      <th>4</th>\n      <th>5</th>\n      <th>6</th>\n      <th>7</th>\n      <th>8</th>\n      <th>9</th>\n      <th>10</th>\n      <th>11</th>\n      <th>12</th>\n      <th>13</th>\n      <th>target</th>\n    </tr>\n  </thead>\n  <tbody>\n    <tr>\n      <th>492</th>\n      <td>1</td>\n      <td>17.58</td>\n      <td>10.0</td>\n      <td>2</td>\n      <td>9</td>\n      <td>8</td>\n      <td>0.165</td>\n      <td>B</td>\n      <td>1</td>\n      <td>1</td>\n      <td>0</td>\n      <td>2</td>\n      <td>120</td>\n      <td>2.0</td>\n      <td>0</td>\n    </tr>\n    <tr>\n      <th>476</th>\n      <td>1</td>\n      <td>27.42</td>\n      <td>12.5</td>\n      <td>2</td>\n      <td>6</td>\n      <td>5</td>\n      <td>0.250</td>\n      <td>B</td>\n      <td>0</td>\n      <td>0</td>\n      <td>1</td>\n      <td>2</td>\n      <td>720</td>\n      <td>1.0</td>\n      <td>0</td>\n    </tr>\n    <tr>\n      <th>12</th>\n      <td>0</td>\n      <td>30.67</td>\n      <td>12.0</td>\n      <td>2</td>\n      <td>8</td>\n      <td>4</td>\n      <td>2.000</td>\n      <td>A</td>\n      <td>1</td>\n      <td>1</td>\n      <td>0</td>\n      <td>2</td>\n      <td>220</td>\n      <td>20.0</td>\n      <td>1</td>\n    </tr>\n  </tbody>\n</table>\n</div>"
     },
     "execution_count": 129,
     "metadata": {},
     "output_type": "execute_result"
    }
   ],
   "source": [
    "train_df.sample(3)"
   ],
   "metadata": {
    "collapsed": false,
    "ExecuteTime": {
     "end_time": "2024-03-19T17:59:23.294899Z",
     "start_time": "2024-03-19T17:59:23.257120Z"
    }
   }
  },
  {
   "cell_type": "code",
   "execution_count": 130,
   "outputs": [
    {
     "data": {
      "text/plain": "0           2\n1         289\n2         184\n3           3\n4          14\n5           8\n6         120\n7           2\n8           2\n9          22\n10          2\n11          3\n12        140\n13        188\ntarget      2\ndtype: int64"
     },
     "execution_count": 130,
     "metadata": {},
     "output_type": "execute_result"
    }
   ],
   "source": [
    "train_df.nunique()"
   ],
   "metadata": {
    "collapsed": false,
    "ExecuteTime": {
     "end_time": "2024-03-19T17:59:23.295189Z",
     "start_time": "2024-03-19T17:59:23.260271Z"
    }
   }
  },
  {
   "cell_type": "code",
   "execution_count": 131,
   "outputs": [
    {
     "data": {
      "text/plain": "     0          1      2  3   4  5       6  7  8   9  10  11   12      13  \\\n0    1  34.750000  15.00  2  12  7   5.375  A  1   9   1   2    0   135.0   \n2    1  20.250000   9.96  2  10  2   0.000  A  0   0   0   2    0     1.0   \n3    1  31.283225  28.00  1   8  4  28.500  A  1  40   0   2    0    16.0   \n5    0  28.500000   1.00  2  11  4   1.000  A  1   2   1   2  167   501.0   \n6    1  31.570000   4.00  2  14  4   5.000  A  1   3   1   2  290  2280.0   \n..  ..        ...    ... ..  .. ..     ... .. ..  ..  ..  ..  ...     ...   \n505  0  27.670000   1.50  2   7  4   2.000  A  0   0   0   1  368     1.0   \n509  0  24.750000   3.00  2  11  8   1.835  A  1  19   0   2    0   501.0   \n510  1  31.315675   8.50  2  10  8   7.000  A  1   3   0   2    0     1.0   \n511  1  31.315675   3.00  2  11  8   6.000  A  1  11   0   2   80     1.0   \n512  0  26.920000  13.50  2  11  8   5.000  A  1   2   0   2    0  5001.0   \n\n    target  \n0        1  \n2        1  \n3        1  \n5        0  \n6        1  \n..     ...  \n505      0  \n509      1  \n510      1  \n511      1  \n512      1  \n\n[277 rows x 15 columns]",
      "text/html": "<div>\n<style scoped>\n    .dataframe tbody tr th:only-of-type {\n        vertical-align: middle;\n    }\n\n    .dataframe tbody tr th {\n        vertical-align: top;\n    }\n\n    .dataframe thead th {\n        text-align: right;\n    }\n</style>\n<table border=\"1\" class=\"dataframe\">\n  <thead>\n    <tr style=\"text-align: right;\">\n      <th></th>\n      <th>0</th>\n      <th>1</th>\n      <th>2</th>\n      <th>3</th>\n      <th>4</th>\n      <th>5</th>\n      <th>6</th>\n      <th>7</th>\n      <th>8</th>\n      <th>9</th>\n      <th>10</th>\n      <th>11</th>\n      <th>12</th>\n      <th>13</th>\n      <th>target</th>\n    </tr>\n  </thead>\n  <tbody>\n    <tr>\n      <th>0</th>\n      <td>1</td>\n      <td>34.750000</td>\n      <td>15.00</td>\n      <td>2</td>\n      <td>12</td>\n      <td>7</td>\n      <td>5.375</td>\n      <td>A</td>\n      <td>1</td>\n      <td>9</td>\n      <td>1</td>\n      <td>2</td>\n      <td>0</td>\n      <td>135.0</td>\n      <td>1</td>\n    </tr>\n    <tr>\n      <th>2</th>\n      <td>1</td>\n      <td>20.250000</td>\n      <td>9.96</td>\n      <td>2</td>\n      <td>10</td>\n      <td>2</td>\n      <td>0.000</td>\n      <td>A</td>\n      <td>0</td>\n      <td>0</td>\n      <td>0</td>\n      <td>2</td>\n      <td>0</td>\n      <td>1.0</td>\n      <td>1</td>\n    </tr>\n    <tr>\n      <th>3</th>\n      <td>1</td>\n      <td>31.283225</td>\n      <td>28.00</td>\n      <td>1</td>\n      <td>8</td>\n      <td>4</td>\n      <td>28.500</td>\n      <td>A</td>\n      <td>1</td>\n      <td>40</td>\n      <td>0</td>\n      <td>2</td>\n      <td>0</td>\n      <td>16.0</td>\n      <td>1</td>\n    </tr>\n    <tr>\n      <th>5</th>\n      <td>0</td>\n      <td>28.500000</td>\n      <td>1.00</td>\n      <td>2</td>\n      <td>11</td>\n      <td>4</td>\n      <td>1.000</td>\n      <td>A</td>\n      <td>1</td>\n      <td>2</td>\n      <td>1</td>\n      <td>2</td>\n      <td>167</td>\n      <td>501.0</td>\n      <td>0</td>\n    </tr>\n    <tr>\n      <th>6</th>\n      <td>1</td>\n      <td>31.570000</td>\n      <td>4.00</td>\n      <td>2</td>\n      <td>14</td>\n      <td>4</td>\n      <td>5.000</td>\n      <td>A</td>\n      <td>1</td>\n      <td>3</td>\n      <td>1</td>\n      <td>2</td>\n      <td>290</td>\n      <td>2280.0</td>\n      <td>1</td>\n    </tr>\n    <tr>\n      <th>...</th>\n      <td>...</td>\n      <td>...</td>\n      <td>...</td>\n      <td>...</td>\n      <td>...</td>\n      <td>...</td>\n      <td>...</td>\n      <td>...</td>\n      <td>...</td>\n      <td>...</td>\n      <td>...</td>\n      <td>...</td>\n      <td>...</td>\n      <td>...</td>\n      <td>...</td>\n    </tr>\n    <tr>\n      <th>505</th>\n      <td>0</td>\n      <td>27.670000</td>\n      <td>1.50</td>\n      <td>2</td>\n      <td>7</td>\n      <td>4</td>\n      <td>2.000</td>\n      <td>A</td>\n      <td>0</td>\n      <td>0</td>\n      <td>0</td>\n      <td>1</td>\n      <td>368</td>\n      <td>1.0</td>\n      <td>0</td>\n    </tr>\n    <tr>\n      <th>509</th>\n      <td>0</td>\n      <td>24.750000</td>\n      <td>3.00</td>\n      <td>2</td>\n      <td>11</td>\n      <td>8</td>\n      <td>1.835</td>\n      <td>A</td>\n      <td>1</td>\n      <td>19</td>\n      <td>0</td>\n      <td>2</td>\n      <td>0</td>\n      <td>501.0</td>\n      <td>1</td>\n    </tr>\n    <tr>\n      <th>510</th>\n      <td>1</td>\n      <td>31.315675</td>\n      <td>8.50</td>\n      <td>2</td>\n      <td>10</td>\n      <td>8</td>\n      <td>7.000</td>\n      <td>A</td>\n      <td>1</td>\n      <td>3</td>\n      <td>0</td>\n      <td>2</td>\n      <td>0</td>\n      <td>1.0</td>\n      <td>1</td>\n    </tr>\n    <tr>\n      <th>511</th>\n      <td>1</td>\n      <td>31.315675</td>\n      <td>3.00</td>\n      <td>2</td>\n      <td>11</td>\n      <td>8</td>\n      <td>6.000</td>\n      <td>A</td>\n      <td>1</td>\n      <td>11</td>\n      <td>0</td>\n      <td>2</td>\n      <td>80</td>\n      <td>1.0</td>\n      <td>1</td>\n    </tr>\n    <tr>\n      <th>512</th>\n      <td>0</td>\n      <td>26.920000</td>\n      <td>13.50</td>\n      <td>2</td>\n      <td>11</td>\n      <td>8</td>\n      <td>5.000</td>\n      <td>A</td>\n      <td>1</td>\n      <td>2</td>\n      <td>0</td>\n      <td>2</td>\n      <td>0</td>\n      <td>5001.0</td>\n      <td>1</td>\n    </tr>\n  </tbody>\n</table>\n<p>277 rows × 15 columns</p>\n</div>"
     },
     "execution_count": 131,
     "metadata": {},
     "output_type": "execute_result"
    }
   ],
   "source": [
    "train_df[train_df['7'] == 'A']"
   ],
   "metadata": {
    "collapsed": false,
    "ExecuteTime": {
     "end_time": "2024-03-19T17:59:23.322942Z",
     "start_time": "2024-03-19T17:59:23.267267Z"
    }
   }
  },
  {
   "cell_type": "code",
   "execution_count": 132,
   "outputs": [
    {
     "data": {
      "text/plain": "(4.994931372549019, 5.0)"
     },
     "execution_count": 132,
     "metadata": {},
     "output_type": "execute_result"
    }
   ],
   "source": [
    "mean_2 = train_df['2'].mean()\n",
    "med_13 = train_df['13'].median()\n",
    "mean_2, med_13"
   ],
   "metadata": {
    "collapsed": false,
    "ExecuteTime": {
     "end_time": "2024-03-19T17:59:23.323116Z",
     "start_time": "2024-03-19T17:59:23.272780Z"
    }
   }
  },
  {
   "cell_type": "code",
   "execution_count": 133,
   "outputs": [
    {
     "data": {
      "text/plain": "0.5056179775280899"
     },
     "execution_count": 133,
     "metadata": {},
     "output_type": "execute_result"
    }
   ],
   "source": [
    "train_df[(train_df['2'] > mean_2) & (train_df['13'] < med_13)]['target'].mean()"
   ],
   "metadata": {
    "collapsed": false,
    "ExecuteTime": {
     "end_time": "2024-03-19T17:59:23.323187Z",
     "start_time": "2024-03-19T17:59:23.278029Z"
    }
   }
  },
  {
   "cell_type": "code",
   "execution_count": 134,
   "outputs": [],
   "source": [
    "from sklearn.preprocessing import LabelEncoder\n",
    "\n",
    "df_train_encoded = train_df.copy()\n",
    "df_test_encoded = test_df.copy()\n",
    "\n",
    "label_encoder = LabelEncoder()\n",
    "\n",
    "for col in ['7']:\n",
    "    df_train_encoded[col] = label_encoder.fit_transform(train_df[col])\n",
    "    df_test_encoded[col] = label_encoder.transform(test_df[col])"
   ],
   "metadata": {
    "collapsed": false,
    "ExecuteTime": {
     "end_time": "2024-03-19T17:59:48.736786Z",
     "start_time": "2024-03-19T17:59:48.733106Z"
    }
   }
  },
  {
   "cell_type": "code",
   "execution_count": 135,
   "outputs": [
    {
     "data": {
      "text/plain": "     0      1       2  3   4  5      6  7  8  9  10  11   12     13 target\n297  1  28.67   9.335  2  11  8  5.665  0  1  6   0   2  381  169.0      1\n230  1  36.67   3.250  2  11  8  9.000  0  0  0   1   2  102  640.0      1\n85   1  21.92   0.540  1  14  4  0.040  0  1  1   1   2  840   60.0      1\n257  0  16.50   1.250  2  11  4  0.250  1  1  1   0   2  108   99.0      0\n281  1  38.17  10.125  2  14  4  2.500  0  1  6   0   2  520  197.0      1",
      "text/html": "<div>\n<style scoped>\n    .dataframe tbody tr th:only-of-type {\n        vertical-align: middle;\n    }\n\n    .dataframe tbody tr th {\n        vertical-align: top;\n    }\n\n    .dataframe thead th {\n        text-align: right;\n    }\n</style>\n<table border=\"1\" class=\"dataframe\">\n  <thead>\n    <tr style=\"text-align: right;\">\n      <th></th>\n      <th>0</th>\n      <th>1</th>\n      <th>2</th>\n      <th>3</th>\n      <th>4</th>\n      <th>5</th>\n      <th>6</th>\n      <th>7</th>\n      <th>8</th>\n      <th>9</th>\n      <th>10</th>\n      <th>11</th>\n      <th>12</th>\n      <th>13</th>\n      <th>target</th>\n    </tr>\n  </thead>\n  <tbody>\n    <tr>\n      <th>297</th>\n      <td>1</td>\n      <td>28.67</td>\n      <td>9.335</td>\n      <td>2</td>\n      <td>11</td>\n      <td>8</td>\n      <td>5.665</td>\n      <td>0</td>\n      <td>1</td>\n      <td>6</td>\n      <td>0</td>\n      <td>2</td>\n      <td>381</td>\n      <td>169.0</td>\n      <td>1</td>\n    </tr>\n    <tr>\n      <th>230</th>\n      <td>1</td>\n      <td>36.67</td>\n      <td>3.250</td>\n      <td>2</td>\n      <td>11</td>\n      <td>8</td>\n      <td>9.000</td>\n      <td>0</td>\n      <td>0</td>\n      <td>0</td>\n      <td>1</td>\n      <td>2</td>\n      <td>102</td>\n      <td>640.0</td>\n      <td>1</td>\n    </tr>\n    <tr>\n      <th>85</th>\n      <td>1</td>\n      <td>21.92</td>\n      <td>0.540</td>\n      <td>1</td>\n      <td>14</td>\n      <td>4</td>\n      <td>0.040</td>\n      <td>0</td>\n      <td>1</td>\n      <td>1</td>\n      <td>1</td>\n      <td>2</td>\n      <td>840</td>\n      <td>60.0</td>\n      <td>1</td>\n    </tr>\n    <tr>\n      <th>257</th>\n      <td>0</td>\n      <td>16.50</td>\n      <td>1.250</td>\n      <td>2</td>\n      <td>11</td>\n      <td>4</td>\n      <td>0.250</td>\n      <td>1</td>\n      <td>1</td>\n      <td>1</td>\n      <td>0</td>\n      <td>2</td>\n      <td>108</td>\n      <td>99.0</td>\n      <td>0</td>\n    </tr>\n    <tr>\n      <th>281</th>\n      <td>1</td>\n      <td>38.17</td>\n      <td>10.125</td>\n      <td>2</td>\n      <td>14</td>\n      <td>4</td>\n      <td>2.500</td>\n      <td>0</td>\n      <td>1</td>\n      <td>6</td>\n      <td>0</td>\n      <td>2</td>\n      <td>520</td>\n      <td>197.0</td>\n      <td>1</td>\n    </tr>\n  </tbody>\n</table>\n</div>"
     },
     "execution_count": 135,
     "metadata": {},
     "output_type": "execute_result"
    }
   ],
   "source": [
    "df_train_encoded.sample(5)"
   ],
   "metadata": {
    "collapsed": false,
    "ExecuteTime": {
     "end_time": "2024-03-19T17:59:53.932599Z",
     "start_time": "2024-03-19T17:59:53.929794Z"
    }
   }
  },
  {
   "cell_type": "code",
   "execution_count": 143,
   "outputs": [],
   "source": [
    "import numpy as np\n",
    "import pandas as pd\n",
    "from sklearn.model_selection import train_test_split\n",
    "from sklearn.preprocessing import StandardScaler\n",
    "from sklearn.linear_model import LogisticRegression\n",
    "from sklearn.pipeline import Pipeline\n",
    "from sklearn.metrics import roc_curve, roc_auc_score, classification_report, accuracy_score, confusion_matrix\n",
    "import seaborn as sns\n",
    "import matplotlib.pyplot as plt\n",
    "\n",
    "y = df_train_encoded['target']\n",
    "X = df_train_encoded.drop(columns='target', axis=1)\n"
   ],
   "metadata": {
    "collapsed": false,
    "ExecuteTime": {
     "end_time": "2024-03-19T18:03:13.362245Z",
     "start_time": "2024-03-19T18:03:13.357662Z"
    }
   }
  },
  {
   "cell_type": "code",
   "execution_count": 145,
   "outputs": [],
   "source": [
    "from sklearn.linear_model import LogisticRegression"
   ],
   "metadata": {
    "collapsed": false,
    "ExecuteTime": {
     "end_time": "2024-03-19T18:04:05.849065Z",
     "start_time": "2024-03-19T18:04:05.845612Z"
    }
   }
  },
  {
   "cell_type": "code",
   "execution_count": 150,
   "outputs": [],
   "source": [
    "y = y.astype(int)"
   ],
   "metadata": {
    "collapsed": false,
    "ExecuteTime": {
     "end_time": "2024-03-19T18:07:03.483291Z",
     "start_time": "2024-03-19T18:07:03.477132Z"
    }
   }
  },
  {
   "cell_type": "code",
   "execution_count": 152,
   "outputs": [
    {
     "name": "stderr",
     "output_type": "stream",
     "text": [
      "/Users/dasidorov03/Desktop/Jupyter HWs/venv/lib/python3.11/site-packages/sklearn/linear_model/_logistic.py:460: ConvergenceWarning: lbfgs failed to converge (status=1):\n",
      "STOP: TOTAL NO. of ITERATIONS REACHED LIMIT.\n",
      "\n",
      "Increase the number of iterations (max_iter) or scale the data as shown in:\n",
      "    https://scikit-learn.org/stable/modules/preprocessing.html\n",
      "Please also refer to the documentation for alternative solver options:\n",
      "    https://scikit-learn.org/stable/modules/linear_model.html#logistic-regression\n",
      "  n_iter_i = _check_optimize_result(\n"
     ]
    },
    {
     "data": {
      "text/plain": "LogisticRegression(random_state=42)",
      "text/html": "<style>#sk-container-id-2 {color: black;}#sk-container-id-2 pre{padding: 0;}#sk-container-id-2 div.sk-toggleable {background-color: white;}#sk-container-id-2 label.sk-toggleable__label {cursor: pointer;display: block;width: 100%;margin-bottom: 0;padding: 0.3em;box-sizing: border-box;text-align: center;}#sk-container-id-2 label.sk-toggleable__label-arrow:before {content: \"▸\";float: left;margin-right: 0.25em;color: #696969;}#sk-container-id-2 label.sk-toggleable__label-arrow:hover:before {color: black;}#sk-container-id-2 div.sk-estimator:hover label.sk-toggleable__label-arrow:before {color: black;}#sk-container-id-2 div.sk-toggleable__content {max-height: 0;max-width: 0;overflow: hidden;text-align: left;background-color: #f0f8ff;}#sk-container-id-2 div.sk-toggleable__content pre {margin: 0.2em;color: black;border-radius: 0.25em;background-color: #f0f8ff;}#sk-container-id-2 input.sk-toggleable__control:checked~div.sk-toggleable__content {max-height: 200px;max-width: 100%;overflow: auto;}#sk-container-id-2 input.sk-toggleable__control:checked~label.sk-toggleable__label-arrow:before {content: \"▾\";}#sk-container-id-2 div.sk-estimator input.sk-toggleable__control:checked~label.sk-toggleable__label {background-color: #d4ebff;}#sk-container-id-2 div.sk-label input.sk-toggleable__control:checked~label.sk-toggleable__label {background-color: #d4ebff;}#sk-container-id-2 input.sk-hidden--visually {border: 0;clip: rect(1px 1px 1px 1px);clip: rect(1px, 1px, 1px, 1px);height: 1px;margin: -1px;overflow: hidden;padding: 0;position: absolute;width: 1px;}#sk-container-id-2 div.sk-estimator {font-family: monospace;background-color: #f0f8ff;border: 1px dotted black;border-radius: 0.25em;box-sizing: border-box;margin-bottom: 0.5em;}#sk-container-id-2 div.sk-estimator:hover {background-color: #d4ebff;}#sk-container-id-2 div.sk-parallel-item::after {content: \"\";width: 100%;border-bottom: 1px solid gray;flex-grow: 1;}#sk-container-id-2 div.sk-label:hover label.sk-toggleable__label {background-color: #d4ebff;}#sk-container-id-2 div.sk-serial::before {content: \"\";position: absolute;border-left: 1px solid gray;box-sizing: border-box;top: 0;bottom: 0;left: 50%;z-index: 0;}#sk-container-id-2 div.sk-serial {display: flex;flex-direction: column;align-items: center;background-color: white;padding-right: 0.2em;padding-left: 0.2em;position: relative;}#sk-container-id-2 div.sk-item {position: relative;z-index: 1;}#sk-container-id-2 div.sk-parallel {display: flex;align-items: stretch;justify-content: center;background-color: white;position: relative;}#sk-container-id-2 div.sk-item::before, #sk-container-id-2 div.sk-parallel-item::before {content: \"\";position: absolute;border-left: 1px solid gray;box-sizing: border-box;top: 0;bottom: 0;left: 50%;z-index: -1;}#sk-container-id-2 div.sk-parallel-item {display: flex;flex-direction: column;z-index: 1;position: relative;background-color: white;}#sk-container-id-2 div.sk-parallel-item:first-child::after {align-self: flex-end;width: 50%;}#sk-container-id-2 div.sk-parallel-item:last-child::after {align-self: flex-start;width: 50%;}#sk-container-id-2 div.sk-parallel-item:only-child::after {width: 0;}#sk-container-id-2 div.sk-dashed-wrapped {border: 1px dashed gray;margin: 0 0.4em 0.5em 0.4em;box-sizing: border-box;padding-bottom: 0.4em;background-color: white;}#sk-container-id-2 div.sk-label label {font-family: monospace;font-weight: bold;display: inline-block;line-height: 1.2em;}#sk-container-id-2 div.sk-label-container {text-align: center;}#sk-container-id-2 div.sk-container {/* jupyter's `normalize.less` sets `[hidden] { display: none; }` but bootstrap.min.css set `[hidden] { display: none !important; }` so we also need the `!important` here to be able to override the default hidden behavior on the sphinx rendered scikit-learn.org. See: https://github.com/scikit-learn/scikit-learn/issues/21755 */display: inline-block !important;position: relative;}#sk-container-id-2 div.sk-text-repr-fallback {display: none;}</style><div id=\"sk-container-id-2\" class=\"sk-top-container\"><div class=\"sk-text-repr-fallback\"><pre>LogisticRegression(random_state=42)</pre><b>In a Jupyter environment, please rerun this cell to show the HTML representation or trust the notebook. <br />On GitHub, the HTML representation is unable to render, please try loading this page with nbviewer.org.</b></div><div class=\"sk-container\" hidden><div class=\"sk-item\"><div class=\"sk-estimator sk-toggleable\"><input class=\"sk-toggleable__control sk-hidden--visually\" id=\"sk-estimator-id-2\" type=\"checkbox\" checked><label for=\"sk-estimator-id-2\" class=\"sk-toggleable__label sk-toggleable__label-arrow\">LogisticRegression</label><div class=\"sk-toggleable__content\"><pre>LogisticRegression(random_state=42)</pre></div></div></div></div></div>"
     },
     "execution_count": 152,
     "metadata": {},
     "output_type": "execute_result"
    }
   ],
   "source": [
    "model = LogisticRegression(penalty='l2', dual=False, tol=0.0001, C=1.0, fit_intercept=True, intercept_scaling=1, class_weight=None, solver='lbfgs', max_iter=100, multi_class='auto', verbose=0, warm_start=False, n_jobs=None, l1_ratio=None, random_state = 42)\n",
    "model.fit(X, y)"
   ],
   "metadata": {
    "collapsed": false,
    "ExecuteTime": {
     "end_time": "2024-03-19T18:07:36.830710Z",
     "start_time": "2024-03-19T18:07:36.807474Z"
    }
   }
  },
  {
   "cell_type": "code",
   "execution_count": 153,
   "outputs": [],
   "source": [
    "y_pred = model.predict(X)"
   ],
   "metadata": {
    "collapsed": false,
    "ExecuteTime": {
     "end_time": "2024-03-19T18:09:13.049664Z",
     "start_time": "2024-03-19T18:09:13.045239Z"
    }
   }
  },
  {
   "cell_type": "code",
   "execution_count": 154,
   "outputs": [
    {
     "data": {
      "text/plain": "0.8177777777777778"
     },
     "execution_count": 154,
     "metadata": {},
     "output_type": "execute_result"
    }
   ],
   "source": [
    "from sklearn.metrics import f1_score\n",
    "\n",
    "f1_score(y, y_pred)"
   ],
   "metadata": {
    "collapsed": false,
    "ExecuteTime": {
     "end_time": "2024-03-19T18:10:18.726516Z",
     "start_time": "2024-03-19T18:10:18.720150Z"
    }
   }
  },
  {
   "cell_type": "code",
   "execution_count": 157,
   "outputs": [
    {
     "name": "stderr",
     "output_type": "stream",
     "text": [
      "/Users/dasidorov03/Desktop/Jupyter HWs/venv/lib/python3.11/site-packages/sklearn/linear_model/_logistic.py:460: ConvergenceWarning: lbfgs failed to converge (status=1):\n",
      "STOP: TOTAL NO. of ITERATIONS REACHED LIMIT.\n",
      "\n",
      "Increase the number of iterations (max_iter) or scale the data as shown in:\n",
      "    https://scikit-learn.org/stable/modules/preprocessing.html\n",
      "Please also refer to the documentation for alternative solver options:\n",
      "    https://scikit-learn.org/stable/modules/linear_model.html#logistic-regression\n",
      "  n_iter_i = _check_optimize_result(\n",
      "/Users/dasidorov03/Desktop/Jupyter HWs/venv/lib/python3.11/site-packages/sklearn/linear_model/_logistic.py:460: ConvergenceWarning: lbfgs failed to converge (status=1):\n",
      "STOP: TOTAL NO. of ITERATIONS REACHED LIMIT.\n",
      "\n",
      "Increase the number of iterations (max_iter) or scale the data as shown in:\n",
      "    https://scikit-learn.org/stable/modules/preprocessing.html\n",
      "Please also refer to the documentation for alternative solver options:\n",
      "    https://scikit-learn.org/stable/modules/linear_model.html#logistic-regression\n",
      "  n_iter_i = _check_optimize_result(\n",
      "/Users/dasidorov03/Desktop/Jupyter HWs/venv/lib/python3.11/site-packages/sklearn/linear_model/_logistic.py:460: ConvergenceWarning: lbfgs failed to converge (status=1):\n",
      "STOP: TOTAL NO. of ITERATIONS REACHED LIMIT.\n",
      "\n",
      "Increase the number of iterations (max_iter) or scale the data as shown in:\n",
      "    https://scikit-learn.org/stable/modules/preprocessing.html\n",
      "Please also refer to the documentation for alternative solver options:\n",
      "    https://scikit-learn.org/stable/modules/linear_model.html#logistic-regression\n",
      "  n_iter_i = _check_optimize_result(\n"
     ]
    },
    {
     "data": {
      "text/plain": "0.8167680743048553"
     },
     "execution_count": 157,
     "metadata": {},
     "output_type": "execute_result"
    }
   ],
   "source": [
    "from sklearn.model_selection import cross_val_score, GridSearchCV\n",
    "f1_scores = cross_val_score(model, X, y, cv=3, scoring='f1')\n",
    "f1_scores.mean()"
   ],
   "metadata": {
    "collapsed": false,
    "ExecuteTime": {
     "end_time": "2024-03-19T18:13:43.449067Z",
     "start_time": "2024-03-19T18:13:43.384806Z"
    }
   }
  },
  {
   "cell_type": "code",
   "execution_count": 158,
   "outputs": [
    {
     "name": "stderr",
     "output_type": "stream",
     "text": [
      "/Users/dasidorov03/Desktop/Jupyter HWs/venv/lib/python3.11/site-packages/sklearn/linear_model/_logistic.py:460: ConvergenceWarning: lbfgs failed to converge (status=1):\n",
      "STOP: TOTAL NO. of ITERATIONS REACHED LIMIT.\n",
      "\n",
      "Increase the number of iterations (max_iter) or scale the data as shown in:\n",
      "    https://scikit-learn.org/stable/modules/preprocessing.html\n",
      "Please also refer to the documentation for alternative solver options:\n",
      "    https://scikit-learn.org/stable/modules/linear_model.html#logistic-regression\n",
      "  n_iter_i = _check_optimize_result(\n",
      "/Users/dasidorov03/Desktop/Jupyter HWs/venv/lib/python3.11/site-packages/sklearn/linear_model/_logistic.py:460: ConvergenceWarning: lbfgs failed to converge (status=1):\n",
      "STOP: TOTAL NO. of ITERATIONS REACHED LIMIT.\n",
      "\n",
      "Increase the number of iterations (max_iter) or scale the data as shown in:\n",
      "    https://scikit-learn.org/stable/modules/preprocessing.html\n",
      "Please also refer to the documentation for alternative solver options:\n",
      "    https://scikit-learn.org/stable/modules/linear_model.html#logistic-regression\n",
      "  n_iter_i = _check_optimize_result(\n",
      "/Users/dasidorov03/Desktop/Jupyter HWs/venv/lib/python3.11/site-packages/sklearn/linear_model/_logistic.py:460: ConvergenceWarning: lbfgs failed to converge (status=1):\n",
      "STOP: TOTAL NO. of ITERATIONS REACHED LIMIT.\n",
      "\n",
      "Increase the number of iterations (max_iter) or scale the data as shown in:\n",
      "    https://scikit-learn.org/stable/modules/preprocessing.html\n",
      "Please also refer to the documentation for alternative solver options:\n",
      "    https://scikit-learn.org/stable/modules/linear_model.html#logistic-regression\n",
      "  n_iter_i = _check_optimize_result(\n",
      "/Users/dasidorov03/Desktop/Jupyter HWs/venv/lib/python3.11/site-packages/sklearn/linear_model/_logistic.py:460: ConvergenceWarning: lbfgs failed to converge (status=1):\n",
      "STOP: TOTAL NO. of ITERATIONS REACHED LIMIT.\n",
      "\n",
      "Increase the number of iterations (max_iter) or scale the data as shown in:\n",
      "    https://scikit-learn.org/stable/modules/preprocessing.html\n",
      "Please also refer to the documentation for alternative solver options:\n",
      "    https://scikit-learn.org/stable/modules/linear_model.html#logistic-regression\n",
      "  n_iter_i = _check_optimize_result(\n",
      "/Users/dasidorov03/Desktop/Jupyter HWs/venv/lib/python3.11/site-packages/sklearn/linear_model/_logistic.py:460: ConvergenceWarning: lbfgs failed to converge (status=1):\n",
      "STOP: TOTAL NO. of ITERATIONS REACHED LIMIT.\n",
      "\n",
      "Increase the number of iterations (max_iter) or scale the data as shown in:\n",
      "    https://scikit-learn.org/stable/modules/preprocessing.html\n",
      "Please also refer to the documentation for alternative solver options:\n",
      "    https://scikit-learn.org/stable/modules/linear_model.html#logistic-regression\n",
      "  n_iter_i = _check_optimize_result(\n",
      "/Users/dasidorov03/Desktop/Jupyter HWs/venv/lib/python3.11/site-packages/sklearn/linear_model/_logistic.py:460: ConvergenceWarning: lbfgs failed to converge (status=1):\n",
      "STOP: TOTAL NO. of ITERATIONS REACHED LIMIT.\n",
      "\n",
      "Increase the number of iterations (max_iter) or scale the data as shown in:\n",
      "    https://scikit-learn.org/stable/modules/preprocessing.html\n",
      "Please also refer to the documentation for alternative solver options:\n",
      "    https://scikit-learn.org/stable/modules/linear_model.html#logistic-regression\n",
      "  n_iter_i = _check_optimize_result(\n",
      "/Users/dasidorov03/Desktop/Jupyter HWs/venv/lib/python3.11/site-packages/sklearn/linear_model/_logistic.py:460: ConvergenceWarning: lbfgs failed to converge (status=1):\n",
      "STOP: TOTAL NO. of ITERATIONS REACHED LIMIT.\n",
      "\n",
      "Increase the number of iterations (max_iter) or scale the data as shown in:\n",
      "    https://scikit-learn.org/stable/modules/preprocessing.html\n",
      "Please also refer to the documentation for alternative solver options:\n",
      "    https://scikit-learn.org/stable/modules/linear_model.html#logistic-regression\n",
      "  n_iter_i = _check_optimize_result(\n",
      "/Users/dasidorov03/Desktop/Jupyter HWs/venv/lib/python3.11/site-packages/sklearn/linear_model/_logistic.py:460: ConvergenceWarning: lbfgs failed to converge (status=1):\n",
      "STOP: TOTAL NO. of ITERATIONS REACHED LIMIT.\n",
      "\n",
      "Increase the number of iterations (max_iter) or scale the data as shown in:\n",
      "    https://scikit-learn.org/stable/modules/preprocessing.html\n",
      "Please also refer to the documentation for alternative solver options:\n",
      "    https://scikit-learn.org/stable/modules/linear_model.html#logistic-regression\n",
      "  n_iter_i = _check_optimize_result(\n",
      "/Users/dasidorov03/Desktop/Jupyter HWs/venv/lib/python3.11/site-packages/sklearn/linear_model/_logistic.py:460: ConvergenceWarning: lbfgs failed to converge (status=1):\n",
      "STOP: TOTAL NO. of ITERATIONS REACHED LIMIT.\n",
      "\n",
      "Increase the number of iterations (max_iter) or scale the data as shown in:\n",
      "    https://scikit-learn.org/stable/modules/preprocessing.html\n",
      "Please also refer to the documentation for alternative solver options:\n",
      "    https://scikit-learn.org/stable/modules/linear_model.html#logistic-regression\n",
      "  n_iter_i = _check_optimize_result(\n",
      "/Users/dasidorov03/Desktop/Jupyter HWs/venv/lib/python3.11/site-packages/sklearn/linear_model/_logistic.py:460: ConvergenceWarning: lbfgs failed to converge (status=1):\n",
      "STOP: TOTAL NO. of ITERATIONS REACHED LIMIT.\n",
      "\n",
      "Increase the number of iterations (max_iter) or scale the data as shown in:\n",
      "    https://scikit-learn.org/stable/modules/preprocessing.html\n",
      "Please also refer to the documentation for alternative solver options:\n",
      "    https://scikit-learn.org/stable/modules/linear_model.html#logistic-regression\n",
      "  n_iter_i = _check_optimize_result(\n",
      "/Users/dasidorov03/Desktop/Jupyter HWs/venv/lib/python3.11/site-packages/sklearn/linear_model/_logistic.py:460: ConvergenceWarning: lbfgs failed to converge (status=1):\n",
      "STOP: TOTAL NO. of ITERATIONS REACHED LIMIT.\n",
      "\n",
      "Increase the number of iterations (max_iter) or scale the data as shown in:\n",
      "    https://scikit-learn.org/stable/modules/preprocessing.html\n",
      "Please also refer to the documentation for alternative solver options:\n",
      "    https://scikit-learn.org/stable/modules/linear_model.html#logistic-regression\n",
      "  n_iter_i = _check_optimize_result(\n",
      "/Users/dasidorov03/Desktop/Jupyter HWs/venv/lib/python3.11/site-packages/sklearn/linear_model/_logistic.py:460: ConvergenceWarning: lbfgs failed to converge (status=1):\n",
      "STOP: TOTAL NO. of ITERATIONS REACHED LIMIT.\n",
      "\n",
      "Increase the number of iterations (max_iter) or scale the data as shown in:\n",
      "    https://scikit-learn.org/stable/modules/preprocessing.html\n",
      "Please also refer to the documentation for alternative solver options:\n",
      "    https://scikit-learn.org/stable/modules/linear_model.html#logistic-regression\n",
      "  n_iter_i = _check_optimize_result(\n",
      "/Users/dasidorov03/Desktop/Jupyter HWs/venv/lib/python3.11/site-packages/sklearn/linear_model/_logistic.py:460: ConvergenceWarning: lbfgs failed to converge (status=1):\n",
      "STOP: TOTAL NO. of ITERATIONS REACHED LIMIT.\n",
      "\n",
      "Increase the number of iterations (max_iter) or scale the data as shown in:\n",
      "    https://scikit-learn.org/stable/modules/preprocessing.html\n",
      "Please also refer to the documentation for alternative solver options:\n",
      "    https://scikit-learn.org/stable/modules/linear_model.html#logistic-regression\n",
      "  n_iter_i = _check_optimize_result(\n",
      "/Users/dasidorov03/Desktop/Jupyter HWs/venv/lib/python3.11/site-packages/sklearn/linear_model/_logistic.py:460: ConvergenceWarning: lbfgs failed to converge (status=1):\n",
      "STOP: TOTAL NO. of ITERATIONS REACHED LIMIT.\n",
      "\n",
      "Increase the number of iterations (max_iter) or scale the data as shown in:\n",
      "    https://scikit-learn.org/stable/modules/preprocessing.html\n",
      "Please also refer to the documentation for alternative solver options:\n",
      "    https://scikit-learn.org/stable/modules/linear_model.html#logistic-regression\n",
      "  n_iter_i = _check_optimize_result(\n",
      "/Users/dasidorov03/Desktop/Jupyter HWs/venv/lib/python3.11/site-packages/sklearn/linear_model/_logistic.py:460: ConvergenceWarning: lbfgs failed to converge (status=1):\n",
      "STOP: TOTAL NO. of ITERATIONS REACHED LIMIT.\n",
      "\n",
      "Increase the number of iterations (max_iter) or scale the data as shown in:\n",
      "    https://scikit-learn.org/stable/modules/preprocessing.html\n",
      "Please also refer to the documentation for alternative solver options:\n",
      "    https://scikit-learn.org/stable/modules/linear_model.html#logistic-regression\n",
      "  n_iter_i = _check_optimize_result(\n",
      "/Users/dasidorov03/Desktop/Jupyter HWs/venv/lib/python3.11/site-packages/sklearn/linear_model/_logistic.py:460: ConvergenceWarning: lbfgs failed to converge (status=1):\n",
      "STOP: TOTAL NO. of ITERATIONS REACHED LIMIT.\n",
      "\n",
      "Increase the number of iterations (max_iter) or scale the data as shown in:\n",
      "    https://scikit-learn.org/stable/modules/preprocessing.html\n",
      "Please also refer to the documentation for alternative solver options:\n",
      "    https://scikit-learn.org/stable/modules/linear_model.html#logistic-regression\n",
      "  n_iter_i = _check_optimize_result(\n",
      "/Users/dasidorov03/Desktop/Jupyter HWs/venv/lib/python3.11/site-packages/sklearn/linear_model/_logistic.py:460: ConvergenceWarning: lbfgs failed to converge (status=1):\n",
      "STOP: TOTAL NO. of ITERATIONS REACHED LIMIT.\n",
      "\n",
      "Increase the number of iterations (max_iter) or scale the data as shown in:\n",
      "    https://scikit-learn.org/stable/modules/preprocessing.html\n",
      "Please also refer to the documentation for alternative solver options:\n",
      "    https://scikit-learn.org/stable/modules/linear_model.html#logistic-regression\n",
      "  n_iter_i = _check_optimize_result(\n",
      "/Users/dasidorov03/Desktop/Jupyter HWs/venv/lib/python3.11/site-packages/sklearn/linear_model/_logistic.py:460: ConvergenceWarning: lbfgs failed to converge (status=1):\n",
      "STOP: TOTAL NO. of ITERATIONS REACHED LIMIT.\n",
      "\n",
      "Increase the number of iterations (max_iter) or scale the data as shown in:\n",
      "    https://scikit-learn.org/stable/modules/preprocessing.html\n",
      "Please also refer to the documentation for alternative solver options:\n",
      "    https://scikit-learn.org/stable/modules/linear_model.html#logistic-regression\n",
      "  n_iter_i = _check_optimize_result(\n",
      "/Users/dasidorov03/Desktop/Jupyter HWs/venv/lib/python3.11/site-packages/sklearn/linear_model/_logistic.py:460: ConvergenceWarning: lbfgs failed to converge (status=1):\n",
      "STOP: TOTAL NO. of ITERATIONS REACHED LIMIT.\n",
      "\n",
      "Increase the number of iterations (max_iter) or scale the data as shown in:\n",
      "    https://scikit-learn.org/stable/modules/preprocessing.html\n",
      "Please also refer to the documentation for alternative solver options:\n",
      "    https://scikit-learn.org/stable/modules/linear_model.html#logistic-regression\n",
      "  n_iter_i = _check_optimize_result(\n"
     ]
    },
    {
     "data": {
      "text/plain": "1"
     },
     "execution_count": 158,
     "metadata": {},
     "output_type": "execute_result"
    }
   ],
   "source": [
    "parameters = {'C':[0.001, 0.01, 0.1, 1, 10, 100]}\n",
    "grid_search = GridSearchCV(model, parameters, cv=3, scoring='f1')\n",
    "\n",
    "grid_search.fit(X, y)\n",
    "\n",
    "grid_search.best_params_['C']"
   ],
   "metadata": {
    "collapsed": false,
    "ExecuteTime": {
     "end_time": "2024-03-19T18:16:03.363682Z",
     "start_time": "2024-03-19T18:16:03.244677Z"
    }
   }
  },
  {
   "cell_type": "code",
   "execution_count": 159,
   "outputs": [],
   "source": [
    "df_train_encoded['NEW'] = df_train_encoded['7'] * df_train_encoded['11']\n",
    "df_test_encoded['NEW'] = df_test_encoded['7'] * df_test_encoded['11']"
   ],
   "metadata": {
    "collapsed": false,
    "ExecuteTime": {
     "end_time": "2024-03-19T18:16:48.891015Z",
     "start_time": "2024-03-19T18:16:48.889373Z"
    }
   }
  },
  {
   "cell_type": "code",
   "execution_count": 160,
   "outputs": [
    {
     "data": {
      "text/plain": "     0      1       2  3  4  5     6  7  8  9  10  11   12     13 target  NEW\n108  1  23.25   4.000  2  8  5  0.25  0  0  0   1   2  160    1.0      1    0\n349  1  24.50  13.335  1  6  4  0.04  1  0  0   1   2  120  476.0      0    2",
      "text/html": "<div>\n<style scoped>\n    .dataframe tbody tr th:only-of-type {\n        vertical-align: middle;\n    }\n\n    .dataframe tbody tr th {\n        vertical-align: top;\n    }\n\n    .dataframe thead th {\n        text-align: right;\n    }\n</style>\n<table border=\"1\" class=\"dataframe\">\n  <thead>\n    <tr style=\"text-align: right;\">\n      <th></th>\n      <th>0</th>\n      <th>1</th>\n      <th>2</th>\n      <th>3</th>\n      <th>4</th>\n      <th>5</th>\n      <th>6</th>\n      <th>7</th>\n      <th>8</th>\n      <th>9</th>\n      <th>10</th>\n      <th>11</th>\n      <th>12</th>\n      <th>13</th>\n      <th>target</th>\n      <th>NEW</th>\n    </tr>\n  </thead>\n  <tbody>\n    <tr>\n      <th>108</th>\n      <td>1</td>\n      <td>23.25</td>\n      <td>4.000</td>\n      <td>2</td>\n      <td>8</td>\n      <td>5</td>\n      <td>0.25</td>\n      <td>0</td>\n      <td>0</td>\n      <td>0</td>\n      <td>1</td>\n      <td>2</td>\n      <td>160</td>\n      <td>1.0</td>\n      <td>1</td>\n      <td>0</td>\n    </tr>\n    <tr>\n      <th>349</th>\n      <td>1</td>\n      <td>24.50</td>\n      <td>13.335</td>\n      <td>1</td>\n      <td>6</td>\n      <td>4</td>\n      <td>0.04</td>\n      <td>1</td>\n      <td>0</td>\n      <td>0</td>\n      <td>1</td>\n      <td>2</td>\n      <td>120</td>\n      <td>476.0</td>\n      <td>0</td>\n      <td>2</td>\n    </tr>\n  </tbody>\n</table>\n</div>"
     },
     "execution_count": 160,
     "metadata": {},
     "output_type": "execute_result"
    }
   ],
   "source": [
    "df_train_encoded.sample(2)"
   ],
   "metadata": {
    "collapsed": false,
    "ExecuteTime": {
     "end_time": "2024-03-19T18:16:55.308579Z",
     "start_time": "2024-03-19T18:16:55.305743Z"
    }
   }
  },
  {
   "cell_type": "code",
   "execution_count": 162,
   "outputs": [],
   "source": [
    "y = df_train_encoded['target']\n",
    "X = df_train_encoded.drop(columns='target', axis=1)"
   ],
   "metadata": {
    "collapsed": false,
    "ExecuteTime": {
     "end_time": "2024-03-19T18:17:32.686742Z",
     "start_time": "2024-03-19T18:17:32.681965Z"
    }
   }
  },
  {
   "cell_type": "code",
   "execution_count": 174,
   "outputs": [
    {
     "data": {
      "text/plain": "     0          1      2  3   4  5       6  7  8   9  10  11   12      13  NEW\n0    1  34.750000  15.00  2  12  7   5.375  0  1   9   1   2    0   135.0    0\n1    1  19.170000   4.00  1   3  4   1.000  1  0   0   1   2  360  1001.0    2\n2    1  20.250000   9.96  2  10  2   0.000  0  0   0   0   2    0     1.0    0\n3    1  31.283225  28.00  1   8  4  28.500  0  1  40   0   2    0    16.0    0\n4    1  22.580000   1.50  1   6  4   0.540  1  0   0   1   2  120    68.0    2\n..  ..        ...    ... ..  .. ..     ... .. ..  ..  ..  ..  ...     ...  ...\n508  0  37.330000   2.50  2   3  8   0.210  1  0   0   0   2  260   247.0    2\n509  0  24.750000   3.00  2  11  8   1.835  0  1  19   0   2    0   501.0    0\n510  1  31.315675   8.50  2  10  8   7.000  0  1   3   0   2    0     1.0    0\n511  1  31.315675   3.00  2  11  8   6.000  0  1  11   0   2   80     1.0    0\n512  0  26.920000  13.50  2  11  8   5.000  0  1   2   0   2    0  5001.0    0\n\n[510 rows x 15 columns]",
      "text/html": "<div>\n<style scoped>\n    .dataframe tbody tr th:only-of-type {\n        vertical-align: middle;\n    }\n\n    .dataframe tbody tr th {\n        vertical-align: top;\n    }\n\n    .dataframe thead th {\n        text-align: right;\n    }\n</style>\n<table border=\"1\" class=\"dataframe\">\n  <thead>\n    <tr style=\"text-align: right;\">\n      <th></th>\n      <th>0</th>\n      <th>1</th>\n      <th>2</th>\n      <th>3</th>\n      <th>4</th>\n      <th>5</th>\n      <th>6</th>\n      <th>7</th>\n      <th>8</th>\n      <th>9</th>\n      <th>10</th>\n      <th>11</th>\n      <th>12</th>\n      <th>13</th>\n      <th>NEW</th>\n    </tr>\n  </thead>\n  <tbody>\n    <tr>\n      <th>0</th>\n      <td>1</td>\n      <td>34.750000</td>\n      <td>15.00</td>\n      <td>2</td>\n      <td>12</td>\n      <td>7</td>\n      <td>5.375</td>\n      <td>0</td>\n      <td>1</td>\n      <td>9</td>\n      <td>1</td>\n      <td>2</td>\n      <td>0</td>\n      <td>135.0</td>\n      <td>0</td>\n    </tr>\n    <tr>\n      <th>1</th>\n      <td>1</td>\n      <td>19.170000</td>\n      <td>4.00</td>\n      <td>1</td>\n      <td>3</td>\n      <td>4</td>\n      <td>1.000</td>\n      <td>1</td>\n      <td>0</td>\n      <td>0</td>\n      <td>1</td>\n      <td>2</td>\n      <td>360</td>\n      <td>1001.0</td>\n      <td>2</td>\n    </tr>\n    <tr>\n      <th>2</th>\n      <td>1</td>\n      <td>20.250000</td>\n      <td>9.96</td>\n      <td>2</td>\n      <td>10</td>\n      <td>2</td>\n      <td>0.000</td>\n      <td>0</td>\n      <td>0</td>\n      <td>0</td>\n      <td>0</td>\n      <td>2</td>\n      <td>0</td>\n      <td>1.0</td>\n      <td>0</td>\n    </tr>\n    <tr>\n      <th>3</th>\n      <td>1</td>\n      <td>31.283225</td>\n      <td>28.00</td>\n      <td>1</td>\n      <td>8</td>\n      <td>4</td>\n      <td>28.500</td>\n      <td>0</td>\n      <td>1</td>\n      <td>40</td>\n      <td>0</td>\n      <td>2</td>\n      <td>0</td>\n      <td>16.0</td>\n      <td>0</td>\n    </tr>\n    <tr>\n      <th>4</th>\n      <td>1</td>\n      <td>22.580000</td>\n      <td>1.50</td>\n      <td>1</td>\n      <td>6</td>\n      <td>4</td>\n      <td>0.540</td>\n      <td>1</td>\n      <td>0</td>\n      <td>0</td>\n      <td>1</td>\n      <td>2</td>\n      <td>120</td>\n      <td>68.0</td>\n      <td>2</td>\n    </tr>\n    <tr>\n      <th>...</th>\n      <td>...</td>\n      <td>...</td>\n      <td>...</td>\n      <td>...</td>\n      <td>...</td>\n      <td>...</td>\n      <td>...</td>\n      <td>...</td>\n      <td>...</td>\n      <td>...</td>\n      <td>...</td>\n      <td>...</td>\n      <td>...</td>\n      <td>...</td>\n      <td>...</td>\n    </tr>\n    <tr>\n      <th>508</th>\n      <td>0</td>\n      <td>37.330000</td>\n      <td>2.50</td>\n      <td>2</td>\n      <td>3</td>\n      <td>8</td>\n      <td>0.210</td>\n      <td>1</td>\n      <td>0</td>\n      <td>0</td>\n      <td>0</td>\n      <td>2</td>\n      <td>260</td>\n      <td>247.0</td>\n      <td>2</td>\n    </tr>\n    <tr>\n      <th>509</th>\n      <td>0</td>\n      <td>24.750000</td>\n      <td>3.00</td>\n      <td>2</td>\n      <td>11</td>\n      <td>8</td>\n      <td>1.835</td>\n      <td>0</td>\n      <td>1</td>\n      <td>19</td>\n      <td>0</td>\n      <td>2</td>\n      <td>0</td>\n      <td>501.0</td>\n      <td>0</td>\n    </tr>\n    <tr>\n      <th>510</th>\n      <td>1</td>\n      <td>31.315675</td>\n      <td>8.50</td>\n      <td>2</td>\n      <td>10</td>\n      <td>8</td>\n      <td>7.000</td>\n      <td>0</td>\n      <td>1</td>\n      <td>3</td>\n      <td>0</td>\n      <td>2</td>\n      <td>0</td>\n      <td>1.0</td>\n      <td>0</td>\n    </tr>\n    <tr>\n      <th>511</th>\n      <td>1</td>\n      <td>31.315675</td>\n      <td>3.00</td>\n      <td>2</td>\n      <td>11</td>\n      <td>8</td>\n      <td>6.000</td>\n      <td>0</td>\n      <td>1</td>\n      <td>11</td>\n      <td>0</td>\n      <td>2</td>\n      <td>80</td>\n      <td>1.0</td>\n      <td>0</td>\n    </tr>\n    <tr>\n      <th>512</th>\n      <td>0</td>\n      <td>26.920000</td>\n      <td>13.50</td>\n      <td>2</td>\n      <td>11</td>\n      <td>8</td>\n      <td>5.000</td>\n      <td>0</td>\n      <td>1</td>\n      <td>2</td>\n      <td>0</td>\n      <td>2</td>\n      <td>0</td>\n      <td>5001.0</td>\n      <td>0</td>\n    </tr>\n  </tbody>\n</table>\n<p>510 rows × 15 columns</p>\n</div>"
     },
     "execution_count": 174,
     "metadata": {},
     "output_type": "execute_result"
    }
   ],
   "source": [
    "X"
   ],
   "metadata": {
    "collapsed": false,
    "ExecuteTime": {
     "end_time": "2024-03-19T18:21:24.974293Z",
     "start_time": "2024-03-19T18:21:24.970517Z"
    }
   }
  },
  {
   "cell_type": "code",
   "execution_count": 170,
   "outputs": [],
   "source": [
    "y = y.astype(int)"
   ],
   "metadata": {
    "collapsed": false,
    "ExecuteTime": {
     "end_time": "2024-03-19T18:18:17.874503Z",
     "start_time": "2024-03-19T18:18:17.866213Z"
    }
   }
  },
  {
   "cell_type": "code",
   "execution_count": 171,
   "outputs": [
    {
     "name": "stderr",
     "output_type": "stream",
     "text": [
      "/Users/dasidorov03/Desktop/Jupyter HWs/venv/lib/python3.11/site-packages/sklearn/linear_model/_logistic.py:460: ConvergenceWarning: lbfgs failed to converge (status=1):\n",
      "STOP: TOTAL NO. of ITERATIONS REACHED LIMIT.\n",
      "\n",
      "Increase the number of iterations (max_iter) or scale the data as shown in:\n",
      "    https://scikit-learn.org/stable/modules/preprocessing.html\n",
      "Please also refer to the documentation for alternative solver options:\n",
      "    https://scikit-learn.org/stable/modules/linear_model.html#logistic-regression\n",
      "  n_iter_i = _check_optimize_result(\n",
      "/Users/dasidorov03/Desktop/Jupyter HWs/venv/lib/python3.11/site-packages/sklearn/linear_model/_logistic.py:460: ConvergenceWarning: lbfgs failed to converge (status=1):\n",
      "STOP: TOTAL NO. of ITERATIONS REACHED LIMIT.\n",
      "\n",
      "Increase the number of iterations (max_iter) or scale the data as shown in:\n",
      "    https://scikit-learn.org/stable/modules/preprocessing.html\n",
      "Please also refer to the documentation for alternative solver options:\n",
      "    https://scikit-learn.org/stable/modules/linear_model.html#logistic-regression\n",
      "  n_iter_i = _check_optimize_result(\n",
      "/Users/dasidorov03/Desktop/Jupyter HWs/venv/lib/python3.11/site-packages/sklearn/linear_model/_logistic.py:460: ConvergenceWarning: lbfgs failed to converge (status=1):\n",
      "STOP: TOTAL NO. of ITERATIONS REACHED LIMIT.\n",
      "\n",
      "Increase the number of iterations (max_iter) or scale the data as shown in:\n",
      "    https://scikit-learn.org/stable/modules/preprocessing.html\n",
      "Please also refer to the documentation for alternative solver options:\n",
      "    https://scikit-learn.org/stable/modules/linear_model.html#logistic-regression\n",
      "  n_iter_i = _check_optimize_result(\n",
      "/Users/dasidorov03/Desktop/Jupyter HWs/venv/lib/python3.11/site-packages/sklearn/linear_model/_logistic.py:460: ConvergenceWarning: lbfgs failed to converge (status=1):\n",
      "STOP: TOTAL NO. of ITERATIONS REACHED LIMIT.\n",
      "\n",
      "Increase the number of iterations (max_iter) or scale the data as shown in:\n",
      "    https://scikit-learn.org/stable/modules/preprocessing.html\n",
      "Please also refer to the documentation for alternative solver options:\n",
      "    https://scikit-learn.org/stable/modules/linear_model.html#logistic-regression\n",
      "  n_iter_i = _check_optimize_result(\n",
      "/Users/dasidorov03/Desktop/Jupyter HWs/venv/lib/python3.11/site-packages/sklearn/linear_model/_logistic.py:460: ConvergenceWarning: lbfgs failed to converge (status=1):\n",
      "STOP: TOTAL NO. of ITERATIONS REACHED LIMIT.\n",
      "\n",
      "Increase the number of iterations (max_iter) or scale the data as shown in:\n",
      "    https://scikit-learn.org/stable/modules/preprocessing.html\n",
      "Please also refer to the documentation for alternative solver options:\n",
      "    https://scikit-learn.org/stable/modules/linear_model.html#logistic-regression\n",
      "  n_iter_i = _check_optimize_result(\n",
      "/Users/dasidorov03/Desktop/Jupyter HWs/venv/lib/python3.11/site-packages/sklearn/linear_model/_logistic.py:460: ConvergenceWarning: lbfgs failed to converge (status=1):\n",
      "STOP: TOTAL NO. of ITERATIONS REACHED LIMIT.\n",
      "\n",
      "Increase the number of iterations (max_iter) or scale the data as shown in:\n",
      "    https://scikit-learn.org/stable/modules/preprocessing.html\n",
      "Please also refer to the documentation for alternative solver options:\n",
      "    https://scikit-learn.org/stable/modules/linear_model.html#logistic-regression\n",
      "  n_iter_i = _check_optimize_result(\n",
      "/Users/dasidorov03/Desktop/Jupyter HWs/venv/lib/python3.11/site-packages/sklearn/linear_model/_logistic.py:460: ConvergenceWarning: lbfgs failed to converge (status=1):\n",
      "STOP: TOTAL NO. of ITERATIONS REACHED LIMIT.\n",
      "\n",
      "Increase the number of iterations (max_iter) or scale the data as shown in:\n",
      "    https://scikit-learn.org/stable/modules/preprocessing.html\n",
      "Please also refer to the documentation for alternative solver options:\n",
      "    https://scikit-learn.org/stable/modules/linear_model.html#logistic-regression\n",
      "  n_iter_i = _check_optimize_result(\n",
      "/Users/dasidorov03/Desktop/Jupyter HWs/venv/lib/python3.11/site-packages/sklearn/linear_model/_logistic.py:460: ConvergenceWarning: lbfgs failed to converge (status=1):\n",
      "STOP: TOTAL NO. of ITERATIONS REACHED LIMIT.\n",
      "\n",
      "Increase the number of iterations (max_iter) or scale the data as shown in:\n",
      "    https://scikit-learn.org/stable/modules/preprocessing.html\n",
      "Please also refer to the documentation for alternative solver options:\n",
      "    https://scikit-learn.org/stable/modules/linear_model.html#logistic-regression\n",
      "  n_iter_i = _check_optimize_result(\n",
      "/Users/dasidorov03/Desktop/Jupyter HWs/venv/lib/python3.11/site-packages/sklearn/linear_model/_logistic.py:460: ConvergenceWarning: lbfgs failed to converge (status=1):\n",
      "STOP: TOTAL NO. of ITERATIONS REACHED LIMIT.\n",
      "\n",
      "Increase the number of iterations (max_iter) or scale the data as shown in:\n",
      "    https://scikit-learn.org/stable/modules/preprocessing.html\n",
      "Please also refer to the documentation for alternative solver options:\n",
      "    https://scikit-learn.org/stable/modules/linear_model.html#logistic-regression\n",
      "  n_iter_i = _check_optimize_result(\n",
      "/Users/dasidorov03/Desktop/Jupyter HWs/venv/lib/python3.11/site-packages/sklearn/linear_model/_logistic.py:460: ConvergenceWarning: lbfgs failed to converge (status=1):\n",
      "STOP: TOTAL NO. of ITERATIONS REACHED LIMIT.\n",
      "\n",
      "Increase the number of iterations (max_iter) or scale the data as shown in:\n",
      "    https://scikit-learn.org/stable/modules/preprocessing.html\n",
      "Please also refer to the documentation for alternative solver options:\n",
      "    https://scikit-learn.org/stable/modules/linear_model.html#logistic-regression\n",
      "  n_iter_i = _check_optimize_result(\n",
      "/Users/dasidorov03/Desktop/Jupyter HWs/venv/lib/python3.11/site-packages/sklearn/linear_model/_logistic.py:460: ConvergenceWarning: lbfgs failed to converge (status=1):\n",
      "STOP: TOTAL NO. of ITERATIONS REACHED LIMIT.\n",
      "\n",
      "Increase the number of iterations (max_iter) or scale the data as shown in:\n",
      "    https://scikit-learn.org/stable/modules/preprocessing.html\n",
      "Please also refer to the documentation for alternative solver options:\n",
      "    https://scikit-learn.org/stable/modules/linear_model.html#logistic-regression\n",
      "  n_iter_i = _check_optimize_result(\n",
      "/Users/dasidorov03/Desktop/Jupyter HWs/venv/lib/python3.11/site-packages/sklearn/linear_model/_logistic.py:460: ConvergenceWarning: lbfgs failed to converge (status=1):\n",
      "STOP: TOTAL NO. of ITERATIONS REACHED LIMIT.\n",
      "\n",
      "Increase the number of iterations (max_iter) or scale the data as shown in:\n",
      "    https://scikit-learn.org/stable/modules/preprocessing.html\n",
      "Please also refer to the documentation for alternative solver options:\n",
      "    https://scikit-learn.org/stable/modules/linear_model.html#logistic-regression\n",
      "  n_iter_i = _check_optimize_result(\n",
      "/Users/dasidorov03/Desktop/Jupyter HWs/venv/lib/python3.11/site-packages/sklearn/linear_model/_logistic.py:460: ConvergenceWarning: lbfgs failed to converge (status=1):\n",
      "STOP: TOTAL NO. of ITERATIONS REACHED LIMIT.\n",
      "\n",
      "Increase the number of iterations (max_iter) or scale the data as shown in:\n",
      "    https://scikit-learn.org/stable/modules/preprocessing.html\n",
      "Please also refer to the documentation for alternative solver options:\n",
      "    https://scikit-learn.org/stable/modules/linear_model.html#logistic-regression\n",
      "  n_iter_i = _check_optimize_result(\n",
      "/Users/dasidorov03/Desktop/Jupyter HWs/venv/lib/python3.11/site-packages/sklearn/linear_model/_logistic.py:460: ConvergenceWarning: lbfgs failed to converge (status=1):\n",
      "STOP: TOTAL NO. of ITERATIONS REACHED LIMIT.\n",
      "\n",
      "Increase the number of iterations (max_iter) or scale the data as shown in:\n",
      "    https://scikit-learn.org/stable/modules/preprocessing.html\n",
      "Please also refer to the documentation for alternative solver options:\n",
      "    https://scikit-learn.org/stable/modules/linear_model.html#logistic-regression\n",
      "  n_iter_i = _check_optimize_result(\n",
      "/Users/dasidorov03/Desktop/Jupyter HWs/venv/lib/python3.11/site-packages/sklearn/linear_model/_logistic.py:460: ConvergenceWarning: lbfgs failed to converge (status=1):\n",
      "STOP: TOTAL NO. of ITERATIONS REACHED LIMIT.\n",
      "\n",
      "Increase the number of iterations (max_iter) or scale the data as shown in:\n",
      "    https://scikit-learn.org/stable/modules/preprocessing.html\n",
      "Please also refer to the documentation for alternative solver options:\n",
      "    https://scikit-learn.org/stable/modules/linear_model.html#logistic-regression\n",
      "  n_iter_i = _check_optimize_result(\n",
      "/Users/dasidorov03/Desktop/Jupyter HWs/venv/lib/python3.11/site-packages/sklearn/linear_model/_logistic.py:460: ConvergenceWarning: lbfgs failed to converge (status=1):\n",
      "STOP: TOTAL NO. of ITERATIONS REACHED LIMIT.\n",
      "\n",
      "Increase the number of iterations (max_iter) or scale the data as shown in:\n",
      "    https://scikit-learn.org/stable/modules/preprocessing.html\n",
      "Please also refer to the documentation for alternative solver options:\n",
      "    https://scikit-learn.org/stable/modules/linear_model.html#logistic-regression\n",
      "  n_iter_i = _check_optimize_result(\n",
      "/Users/dasidorov03/Desktop/Jupyter HWs/venv/lib/python3.11/site-packages/sklearn/linear_model/_logistic.py:460: ConvergenceWarning: lbfgs failed to converge (status=1):\n",
      "STOP: TOTAL NO. of ITERATIONS REACHED LIMIT.\n",
      "\n",
      "Increase the number of iterations (max_iter) or scale the data as shown in:\n",
      "    https://scikit-learn.org/stable/modules/preprocessing.html\n",
      "Please also refer to the documentation for alternative solver options:\n",
      "    https://scikit-learn.org/stable/modules/linear_model.html#logistic-regression\n",
      "  n_iter_i = _check_optimize_result(\n",
      "/Users/dasidorov03/Desktop/Jupyter HWs/venv/lib/python3.11/site-packages/sklearn/linear_model/_logistic.py:460: ConvergenceWarning: lbfgs failed to converge (status=1):\n",
      "STOP: TOTAL NO. of ITERATIONS REACHED LIMIT.\n",
      "\n",
      "Increase the number of iterations (max_iter) or scale the data as shown in:\n",
      "    https://scikit-learn.org/stable/modules/preprocessing.html\n",
      "Please also refer to the documentation for alternative solver options:\n",
      "    https://scikit-learn.org/stable/modules/linear_model.html#logistic-regression\n",
      "  n_iter_i = _check_optimize_result(\n",
      "/Users/dasidorov03/Desktop/Jupyter HWs/venv/lib/python3.11/site-packages/sklearn/linear_model/_logistic.py:460: ConvergenceWarning: lbfgs failed to converge (status=1):\n",
      "STOP: TOTAL NO. of ITERATIONS REACHED LIMIT.\n",
      "\n",
      "Increase the number of iterations (max_iter) or scale the data as shown in:\n",
      "    https://scikit-learn.org/stable/modules/preprocessing.html\n",
      "Please also refer to the documentation for alternative solver options:\n",
      "    https://scikit-learn.org/stable/modules/linear_model.html#logistic-regression\n",
      "  n_iter_i = _check_optimize_result(\n"
     ]
    },
    {
     "data": {
      "text/plain": "GridSearchCV(cv=3, estimator=LogisticRegression(random_state=42),\n             param_grid={'C': [0.001, 0.01, 0.1, 1, 10, 100]}, scoring='f1')",
      "text/html": "<style>#sk-container-id-4 {color: black;}#sk-container-id-4 pre{padding: 0;}#sk-container-id-4 div.sk-toggleable {background-color: white;}#sk-container-id-4 label.sk-toggleable__label {cursor: pointer;display: block;width: 100%;margin-bottom: 0;padding: 0.3em;box-sizing: border-box;text-align: center;}#sk-container-id-4 label.sk-toggleable__label-arrow:before {content: \"▸\";float: left;margin-right: 0.25em;color: #696969;}#sk-container-id-4 label.sk-toggleable__label-arrow:hover:before {color: black;}#sk-container-id-4 div.sk-estimator:hover label.sk-toggleable__label-arrow:before {color: black;}#sk-container-id-4 div.sk-toggleable__content {max-height: 0;max-width: 0;overflow: hidden;text-align: left;background-color: #f0f8ff;}#sk-container-id-4 div.sk-toggleable__content pre {margin: 0.2em;color: black;border-radius: 0.25em;background-color: #f0f8ff;}#sk-container-id-4 input.sk-toggleable__control:checked~div.sk-toggleable__content {max-height: 200px;max-width: 100%;overflow: auto;}#sk-container-id-4 input.sk-toggleable__control:checked~label.sk-toggleable__label-arrow:before {content: \"▾\";}#sk-container-id-4 div.sk-estimator input.sk-toggleable__control:checked~label.sk-toggleable__label {background-color: #d4ebff;}#sk-container-id-4 div.sk-label input.sk-toggleable__control:checked~label.sk-toggleable__label {background-color: #d4ebff;}#sk-container-id-4 input.sk-hidden--visually {border: 0;clip: rect(1px 1px 1px 1px);clip: rect(1px, 1px, 1px, 1px);height: 1px;margin: -1px;overflow: hidden;padding: 0;position: absolute;width: 1px;}#sk-container-id-4 div.sk-estimator {font-family: monospace;background-color: #f0f8ff;border: 1px dotted black;border-radius: 0.25em;box-sizing: border-box;margin-bottom: 0.5em;}#sk-container-id-4 div.sk-estimator:hover {background-color: #d4ebff;}#sk-container-id-4 div.sk-parallel-item::after {content: \"\";width: 100%;border-bottom: 1px solid gray;flex-grow: 1;}#sk-container-id-4 div.sk-label:hover label.sk-toggleable__label {background-color: #d4ebff;}#sk-container-id-4 div.sk-serial::before {content: \"\";position: absolute;border-left: 1px solid gray;box-sizing: border-box;top: 0;bottom: 0;left: 50%;z-index: 0;}#sk-container-id-4 div.sk-serial {display: flex;flex-direction: column;align-items: center;background-color: white;padding-right: 0.2em;padding-left: 0.2em;position: relative;}#sk-container-id-4 div.sk-item {position: relative;z-index: 1;}#sk-container-id-4 div.sk-parallel {display: flex;align-items: stretch;justify-content: center;background-color: white;position: relative;}#sk-container-id-4 div.sk-item::before, #sk-container-id-4 div.sk-parallel-item::before {content: \"\";position: absolute;border-left: 1px solid gray;box-sizing: border-box;top: 0;bottom: 0;left: 50%;z-index: -1;}#sk-container-id-4 div.sk-parallel-item {display: flex;flex-direction: column;z-index: 1;position: relative;background-color: white;}#sk-container-id-4 div.sk-parallel-item:first-child::after {align-self: flex-end;width: 50%;}#sk-container-id-4 div.sk-parallel-item:last-child::after {align-self: flex-start;width: 50%;}#sk-container-id-4 div.sk-parallel-item:only-child::after {width: 0;}#sk-container-id-4 div.sk-dashed-wrapped {border: 1px dashed gray;margin: 0 0.4em 0.5em 0.4em;box-sizing: border-box;padding-bottom: 0.4em;background-color: white;}#sk-container-id-4 div.sk-label label {font-family: monospace;font-weight: bold;display: inline-block;line-height: 1.2em;}#sk-container-id-4 div.sk-label-container {text-align: center;}#sk-container-id-4 div.sk-container {/* jupyter's `normalize.less` sets `[hidden] { display: none; }` but bootstrap.min.css set `[hidden] { display: none !important; }` so we also need the `!important` here to be able to override the default hidden behavior on the sphinx rendered scikit-learn.org. See: https://github.com/scikit-learn/scikit-learn/issues/21755 */display: inline-block !important;position: relative;}#sk-container-id-4 div.sk-text-repr-fallback {display: none;}</style><div id=\"sk-container-id-4\" class=\"sk-top-container\"><div class=\"sk-text-repr-fallback\"><pre>GridSearchCV(cv=3, estimator=LogisticRegression(random_state=42),\n             param_grid={&#x27;C&#x27;: [0.001, 0.01, 0.1, 1, 10, 100]}, scoring=&#x27;f1&#x27;)</pre><b>In a Jupyter environment, please rerun this cell to show the HTML representation or trust the notebook. <br />On GitHub, the HTML representation is unable to render, please try loading this page with nbviewer.org.</b></div><div class=\"sk-container\" hidden><div class=\"sk-item sk-dashed-wrapped\"><div class=\"sk-label-container\"><div class=\"sk-label sk-toggleable\"><input class=\"sk-toggleable__control sk-hidden--visually\" id=\"sk-estimator-id-6\" type=\"checkbox\" ><label for=\"sk-estimator-id-6\" class=\"sk-toggleable__label sk-toggleable__label-arrow\">GridSearchCV</label><div class=\"sk-toggleable__content\"><pre>GridSearchCV(cv=3, estimator=LogisticRegression(random_state=42),\n             param_grid={&#x27;C&#x27;: [0.001, 0.01, 0.1, 1, 10, 100]}, scoring=&#x27;f1&#x27;)</pre></div></div></div><div class=\"sk-parallel\"><div class=\"sk-parallel-item\"><div class=\"sk-item\"><div class=\"sk-label-container\"><div class=\"sk-label sk-toggleable\"><input class=\"sk-toggleable__control sk-hidden--visually\" id=\"sk-estimator-id-7\" type=\"checkbox\" ><label for=\"sk-estimator-id-7\" class=\"sk-toggleable__label sk-toggleable__label-arrow\">estimator: LogisticRegression</label><div class=\"sk-toggleable__content\"><pre>LogisticRegression(random_state=42)</pre></div></div></div><div class=\"sk-serial\"><div class=\"sk-item\"><div class=\"sk-estimator sk-toggleable\"><input class=\"sk-toggleable__control sk-hidden--visually\" id=\"sk-estimator-id-8\" type=\"checkbox\" ><label for=\"sk-estimator-id-8\" class=\"sk-toggleable__label sk-toggleable__label-arrow\">LogisticRegression</label><div class=\"sk-toggleable__content\"><pre>LogisticRegression(random_state=42)</pre></div></div></div></div></div></div></div></div></div></div>"
     },
     "execution_count": 171,
     "metadata": {},
     "output_type": "execute_result"
    }
   ],
   "source": [
    "parameters = {'C':[0.001, 0.01, 0.1, 1, 10, 100]}\n",
    "grid_search = GridSearchCV(model, parameters, cv=3, scoring='f1')\n",
    "\n",
    "grid_search.fit(X, y)\n",
    "\n"
   ],
   "metadata": {
    "collapsed": false,
    "ExecuteTime": {
     "end_time": "2024-03-19T18:18:19.163127Z",
     "start_time": "2024-03-19T18:18:19.045532Z"
    }
   }
  },
  {
   "cell_type": "code",
   "execution_count": 172,
   "outputs": [
    {
     "data": {
      "text/plain": "0.8537372185780069"
     },
     "execution_count": 172,
     "metadata": {},
     "output_type": "execute_result"
    }
   ],
   "source": [
    "grid_search.best_score_"
   ],
   "metadata": {
    "collapsed": false,
    "ExecuteTime": {
     "end_time": "2024-03-19T18:18:47.104138Z",
     "start_time": "2024-03-19T18:18:47.086733Z"
    }
   }
  },
  {
   "cell_type": "code",
   "execution_count": 176,
   "outputs": [
    {
     "data": {
      "text/plain": "    0      1      2  3  4  5      6  7  8  9  10  11   12  13  NEW\n28  1  16.50  0.125  2  8  4  0.165  1  0  0   0   2  132   1    2\n51  1  36.17  0.420  1  9  4  0.290  1  0  0   1   2  309   3    2\n65  1  22.67  0.750  2  3  4  1.585  1  1  1   1   2  400  10    2",
      "text/html": "<div>\n<style scoped>\n    .dataframe tbody tr th:only-of-type {\n        vertical-align: middle;\n    }\n\n    .dataframe tbody tr th {\n        vertical-align: top;\n    }\n\n    .dataframe thead th {\n        text-align: right;\n    }\n</style>\n<table border=\"1\" class=\"dataframe\">\n  <thead>\n    <tr style=\"text-align: right;\">\n      <th></th>\n      <th>0</th>\n      <th>1</th>\n      <th>2</th>\n      <th>3</th>\n      <th>4</th>\n      <th>5</th>\n      <th>6</th>\n      <th>7</th>\n      <th>8</th>\n      <th>9</th>\n      <th>10</th>\n      <th>11</th>\n      <th>12</th>\n      <th>13</th>\n      <th>NEW</th>\n    </tr>\n  </thead>\n  <tbody>\n    <tr>\n      <th>28</th>\n      <td>1</td>\n      <td>16.50</td>\n      <td>0.125</td>\n      <td>2</td>\n      <td>8</td>\n      <td>4</td>\n      <td>0.165</td>\n      <td>1</td>\n      <td>0</td>\n      <td>0</td>\n      <td>0</td>\n      <td>2</td>\n      <td>132</td>\n      <td>1</td>\n      <td>2</td>\n    </tr>\n    <tr>\n      <th>51</th>\n      <td>1</td>\n      <td>36.17</td>\n      <td>0.420</td>\n      <td>1</td>\n      <td>9</td>\n      <td>4</td>\n      <td>0.290</td>\n      <td>1</td>\n      <td>0</td>\n      <td>0</td>\n      <td>1</td>\n      <td>2</td>\n      <td>309</td>\n      <td>3</td>\n      <td>2</td>\n    </tr>\n    <tr>\n      <th>65</th>\n      <td>1</td>\n      <td>22.67</td>\n      <td>0.750</td>\n      <td>2</td>\n      <td>3</td>\n      <td>4</td>\n      <td>1.585</td>\n      <td>1</td>\n      <td>1</td>\n      <td>1</td>\n      <td>1</td>\n      <td>2</td>\n      <td>400</td>\n      <td>10</td>\n      <td>2</td>\n    </tr>\n  </tbody>\n</table>\n</div>"
     },
     "execution_count": 176,
     "metadata": {},
     "output_type": "execute_result"
    }
   ],
   "source": [
    "df_test_encoded.sample(3)"
   ],
   "metadata": {
    "collapsed": false,
    "ExecuteTime": {
     "end_time": "2024-03-19T18:21:39.346036Z",
     "start_time": "2024-03-19T18:21:39.342665Z"
    }
   }
  },
  {
   "cell_type": "code",
   "execution_count": null,
   "outputs": [],
   "source": [],
   "metadata": {
    "collapsed": false
   }
  },
  {
   "cell_type": "code",
   "execution_count": 177,
   "outputs": [],
   "source": [
    "y_pred = grid_search.predict(df_test_encoded)"
   ],
   "metadata": {
    "collapsed": false,
    "ExecuteTime": {
     "end_time": "2024-03-19T18:22:25.707925Z",
     "start_time": "2024-03-19T18:22:25.700830Z"
    }
   }
  },
  {
   "cell_type": "code",
   "execution_count": 178,
   "outputs": [],
   "source": [
    "result_df = pd.DataFrame({'target': y_pred})\n",
    "result_df.to_csv('result.csv', index=False)"
   ],
   "metadata": {
    "collapsed": false,
    "ExecuteTime": {
     "end_time": "2024-03-19T18:22:26.998624Z",
     "start_time": "2024-03-19T18:22:26.991339Z"
    }
   }
  },
  {
   "cell_type": "code",
   "execution_count": 179,
   "outputs": [
    {
     "data": {
      "text/plain": "     target\n0         0\n1         0\n2         0\n3         0\n4         1\n..      ...\n168       1\n169       1\n170       0\n171       1\n172       0\n\n[173 rows x 1 columns]",
      "text/html": "<div>\n<style scoped>\n    .dataframe tbody tr th:only-of-type {\n        vertical-align: middle;\n    }\n\n    .dataframe tbody tr th {\n        vertical-align: top;\n    }\n\n    .dataframe thead th {\n        text-align: right;\n    }\n</style>\n<table border=\"1\" class=\"dataframe\">\n  <thead>\n    <tr style=\"text-align: right;\">\n      <th></th>\n      <th>target</th>\n    </tr>\n  </thead>\n  <tbody>\n    <tr>\n      <th>0</th>\n      <td>0</td>\n    </tr>\n    <tr>\n      <th>1</th>\n      <td>0</td>\n    </tr>\n    <tr>\n      <th>2</th>\n      <td>0</td>\n    </tr>\n    <tr>\n      <th>3</th>\n      <td>0</td>\n    </tr>\n    <tr>\n      <th>4</th>\n      <td>1</td>\n    </tr>\n    <tr>\n      <th>...</th>\n      <td>...</td>\n    </tr>\n    <tr>\n      <th>168</th>\n      <td>1</td>\n    </tr>\n    <tr>\n      <th>169</th>\n      <td>1</td>\n    </tr>\n    <tr>\n      <th>170</th>\n      <td>0</td>\n    </tr>\n    <tr>\n      <th>171</th>\n      <td>1</td>\n    </tr>\n    <tr>\n      <th>172</th>\n      <td>0</td>\n    </tr>\n  </tbody>\n</table>\n<p>173 rows × 1 columns</p>\n</div>"
     },
     "execution_count": 179,
     "metadata": {},
     "output_type": "execute_result"
    }
   ],
   "source": [
    "result_df"
   ],
   "metadata": {
    "collapsed": false,
    "ExecuteTime": {
     "end_time": "2024-03-19T18:22:42.504756Z",
     "start_time": "2024-03-19T18:22:42.498207Z"
    }
   }
  },
  {
   "cell_type": "code",
   "execution_count": 201,
   "outputs": [
    {
     "name": "stdout",
     "output_type": "stream",
     "text": [
      "0:\tlearn: 0.3892003\ttotal: 506us\tremaining: 101ms\n",
      "1:\tlearn: 0.3479043\ttotal: 1.41ms\tremaining: 139ms\n",
      "2:\tlearn: 0.3229669\ttotal: 1.88ms\tremaining: 124ms\n",
      "3:\tlearn: 0.2802009\ttotal: 2.61ms\tremaining: 128ms\n",
      "4:\tlearn: 0.2729042\ttotal: 2.98ms\tremaining: 116ms\n",
      "5:\tlearn: 0.2595421\ttotal: 3.31ms\tremaining: 107ms\n",
      "6:\tlearn: 0.2419725\ttotal: 3.6ms\tremaining: 99.1ms\n",
      "7:\tlearn: 0.2387145\ttotal: 3.94ms\tremaining: 94.6ms\n",
      "8:\tlearn: 0.2245630\ttotal: 4.28ms\tremaining: 90.8ms\n",
      "9:\tlearn: 0.2190087\ttotal: 4.61ms\tremaining: 87.5ms\n",
      "10:\tlearn: 0.2005470\ttotal: 4.94ms\tremaining: 84.8ms\n",
      "11:\tlearn: 0.1931938\ttotal: 5.26ms\tremaining: 82.4ms\n",
      "12:\tlearn: 0.1785890\ttotal: 5.61ms\tremaining: 80.7ms\n",
      "13:\tlearn: 0.1719807\ttotal: 5.9ms\tremaining: 78.4ms\n",
      "14:\tlearn: 0.1627096\ttotal: 6.25ms\tremaining: 77ms\n",
      "15:\tlearn: 0.1525277\ttotal: 6.54ms\tremaining: 75.2ms\n",
      "16:\tlearn: 0.1450044\ttotal: 6.84ms\tremaining: 73.6ms\n",
      "17:\tlearn: 0.1342656\ttotal: 7.13ms\tremaining: 72.2ms\n",
      "18:\tlearn: 0.1287768\ttotal: 7.58ms\tremaining: 72.2ms\n",
      "19:\tlearn: 0.1225278\ttotal: 7.89ms\tremaining: 71ms\n",
      "20:\tlearn: 0.1132023\ttotal: 8.28ms\tremaining: 70.6ms\n",
      "21:\tlearn: 0.1075362\ttotal: 8.6ms\tremaining: 69.6ms\n",
      "22:\tlearn: 0.1066165\ttotal: 8.98ms\tremaining: 69.1ms\n",
      "23:\tlearn: 0.1014904\ttotal: 9.29ms\tremaining: 68.1ms\n",
      "24:\tlearn: 0.0988333\ttotal: 9.59ms\tremaining: 67.2ms\n",
      "25:\tlearn: 0.0930893\ttotal: 9.91ms\tremaining: 66.3ms\n",
      "26:\tlearn: 0.0890673\ttotal: 10.2ms\tremaining: 65.4ms\n",
      "27:\tlearn: 0.0871828\ttotal: 10.5ms\tremaining: 64.7ms\n",
      "28:\tlearn: 0.0832470\ttotal: 10.9ms\tremaining: 64.4ms\n",
      "29:\tlearn: 0.0800855\ttotal: 11.2ms\tremaining: 63.6ms\n",
      "30:\tlearn: 0.0785407\ttotal: 11.6ms\tremaining: 63.1ms\n",
      "31:\tlearn: 0.0727111\ttotal: 11.9ms\tremaining: 62.3ms\n",
      "32:\tlearn: 0.0708512\ttotal: 12.2ms\tremaining: 61.6ms\n",
      "33:\tlearn: 0.0688737\ttotal: 12.5ms\tremaining: 60.9ms\n",
      "34:\tlearn: 0.0680773\ttotal: 12.8ms\tremaining: 60.3ms\n",
      "35:\tlearn: 0.0657248\ttotal: 13.2ms\tremaining: 60ms\n",
      "36:\tlearn: 0.0648382\ttotal: 13.5ms\tremaining: 59.4ms\n",
      "37:\tlearn: 0.0625467\ttotal: 13.8ms\tremaining: 58.7ms\n",
      "38:\tlearn: 0.0616382\ttotal: 14.1ms\tremaining: 58.1ms\n",
      "39:\tlearn: 0.0593483\ttotal: 14.4ms\tremaining: 57.5ms\n",
      "40:\tlearn: 0.0577564\ttotal: 14.7ms\tremaining: 56.9ms\n",
      "41:\tlearn: 0.0553721\ttotal: 15ms\tremaining: 56.4ms\n",
      "42:\tlearn: 0.0552045\ttotal: 15.3ms\tremaining: 55.8ms\n",
      "43:\tlearn: 0.0538663\ttotal: 15.6ms\tremaining: 55.3ms\n",
      "44:\tlearn: 0.0512828\ttotal: 15.9ms\tremaining: 54.8ms\n",
      "45:\tlearn: 0.0495832\ttotal: 16.2ms\tremaining: 54.3ms\n",
      "46:\tlearn: 0.0490255\ttotal: 16.5ms\tremaining: 53.8ms\n",
      "47:\tlearn: 0.0479349\ttotal: 17ms\tremaining: 53.9ms\n",
      "48:\tlearn: 0.0470698\ttotal: 17.5ms\tremaining: 54ms\n",
      "49:\tlearn: 0.0452452\ttotal: 18ms\tremaining: 53.9ms\n",
      "50:\tlearn: 0.0435300\ttotal: 18.5ms\tremaining: 54ms\n",
      "51:\tlearn: 0.0416578\ttotal: 18.9ms\tremaining: 53.8ms\n",
      "52:\tlearn: 0.0414529\ttotal: 19.3ms\tremaining: 53.4ms\n",
      "53:\tlearn: 0.0413445\ttotal: 19.6ms\tremaining: 53.1ms\n",
      "54:\tlearn: 0.0391952\ttotal: 20ms\tremaining: 52.6ms\n",
      "55:\tlearn: 0.0369761\ttotal: 20.2ms\tremaining: 52ms\n",
      "56:\tlearn: 0.0356082\ttotal: 20.6ms\tremaining: 51.6ms\n",
      "57:\tlearn: 0.0336574\ttotal: 20.9ms\tremaining: 51.1ms\n",
      "58:\tlearn: 0.0334195\ttotal: 21.2ms\tremaining: 50.6ms\n",
      "59:\tlearn: 0.0320527\ttotal: 21.5ms\tremaining: 50.1ms\n",
      "60:\tlearn: 0.0315391\ttotal: 21.8ms\tremaining: 49.6ms\n",
      "61:\tlearn: 0.0303487\ttotal: 22.2ms\tremaining: 49.3ms\n",
      "62:\tlearn: 0.0295431\ttotal: 22.5ms\tremaining: 49ms\n",
      "63:\tlearn: 0.0283017\ttotal: 22.9ms\tremaining: 48.7ms\n",
      "64:\tlearn: 0.0282904\ttotal: 23.4ms\tremaining: 48.7ms\n",
      "65:\tlearn: 0.0282389\ttotal: 23.8ms\tremaining: 48.3ms\n",
      "66:\tlearn: 0.0281969\ttotal: 24.2ms\tremaining: 48ms\n",
      "67:\tlearn: 0.0274555\ttotal: 24.5ms\tremaining: 47.6ms\n",
      "68:\tlearn: 0.0274552\ttotal: 24.8ms\tremaining: 47.1ms\n",
      "69:\tlearn: 0.0270706\ttotal: 25.1ms\tremaining: 46.6ms\n",
      "70:\tlearn: 0.0257507\ttotal: 25.5ms\tremaining: 46.3ms\n",
      "71:\tlearn: 0.0248992\ttotal: 25.8ms\tremaining: 45.9ms\n",
      "72:\tlearn: 0.0239227\ttotal: 26.5ms\tremaining: 46.2ms\n",
      "73:\tlearn: 0.0231844\ttotal: 26.8ms\tremaining: 45.7ms\n",
      "74:\tlearn: 0.0225626\ttotal: 27.2ms\tremaining: 45.3ms\n",
      "75:\tlearn: 0.0214324\ttotal: 27.6ms\tremaining: 45.1ms\n",
      "76:\tlearn: 0.0210934\ttotal: 28.3ms\tremaining: 45.3ms\n",
      "77:\tlearn: 0.0208422\ttotal: 28.7ms\tremaining: 44.9ms\n",
      "78:\tlearn: 0.0203813\ttotal: 29ms\tremaining: 44.4ms\n",
      "79:\tlearn: 0.0193636\ttotal: 29.6ms\tremaining: 44.4ms\n",
      "80:\tlearn: 0.0185782\ttotal: 30.4ms\tremaining: 44.6ms\n",
      "81:\tlearn: 0.0183560\ttotal: 30.9ms\tremaining: 44.5ms\n",
      "82:\tlearn: 0.0178409\ttotal: 31.3ms\tremaining: 44.1ms\n",
      "83:\tlearn: 0.0170962\ttotal: 31.7ms\tremaining: 43.8ms\n",
      "84:\tlearn: 0.0164540\ttotal: 32.1ms\tremaining: 43.4ms\n",
      "85:\tlearn: 0.0159030\ttotal: 32.5ms\tremaining: 43ms\n",
      "86:\tlearn: 0.0157681\ttotal: 33ms\tremaining: 42.8ms\n",
      "87:\tlearn: 0.0154694\ttotal: 34.2ms\tremaining: 43.5ms\n",
      "88:\tlearn: 0.0151866\ttotal: 34.6ms\tremaining: 43.1ms\n",
      "89:\tlearn: 0.0151568\ttotal: 35ms\tremaining: 42.8ms\n",
      "90:\tlearn: 0.0150008\ttotal: 35.4ms\tremaining: 42.4ms\n",
      "91:\tlearn: 0.0147510\ttotal: 35.7ms\tremaining: 42ms\n",
      "92:\tlearn: 0.0142363\ttotal: 36.1ms\tremaining: 41.6ms\n",
      "93:\tlearn: 0.0138990\ttotal: 36.6ms\tremaining: 41.2ms\n",
      "94:\tlearn: 0.0133295\ttotal: 37ms\tremaining: 40.9ms\n",
      "95:\tlearn: 0.0130530\ttotal: 37.4ms\tremaining: 40.5ms\n",
      "96:\tlearn: 0.0128241\ttotal: 37.8ms\tremaining: 40.2ms\n",
      "97:\tlearn: 0.0127631\ttotal: 38.2ms\tremaining: 39.8ms\n",
      "98:\tlearn: 0.0126656\ttotal: 38.6ms\tremaining: 39.4ms\n",
      "99:\tlearn: 0.0122793\ttotal: 39ms\tremaining: 39ms\n",
      "100:\tlearn: 0.0119257\ttotal: 39.4ms\tremaining: 38.6ms\n",
      "101:\tlearn: 0.0115726\ttotal: 39.7ms\tremaining: 38.2ms\n",
      "102:\tlearn: 0.0112898\ttotal: 40.1ms\tremaining: 37.7ms\n",
      "103:\tlearn: 0.0110011\ttotal: 40.4ms\tremaining: 37.3ms\n",
      "104:\tlearn: 0.0108394\ttotal: 40.7ms\tremaining: 36.8ms\n",
      "105:\tlearn: 0.0108390\ttotal: 41ms\tremaining: 36.3ms\n",
      "106:\tlearn: 0.0108386\ttotal: 41.3ms\tremaining: 35.9ms\n",
      "107:\tlearn: 0.0108382\ttotal: 41.6ms\tremaining: 35.5ms\n",
      "108:\tlearn: 0.0108382\ttotal: 41.9ms\tremaining: 35ms\n",
      "109:\tlearn: 0.0108377\ttotal: 42.2ms\tremaining: 34.5ms\n",
      "110:\tlearn: 0.0108376\ttotal: 42.5ms\tremaining: 34ms\n",
      "111:\tlearn: 0.0108372\ttotal: 42.7ms\tremaining: 33.6ms\n",
      "112:\tlearn: 0.0108371\ttotal: 43ms\tremaining: 33.1ms\n",
      "113:\tlearn: 0.0108155\ttotal: 43.3ms\tremaining: 32.6ms\n",
      "114:\tlearn: 0.0107204\ttotal: 43.6ms\tremaining: 32.2ms\n",
      "115:\tlearn: 0.0107191\ttotal: 43.9ms\tremaining: 31.8ms\n",
      "116:\tlearn: 0.0107174\ttotal: 44.2ms\tremaining: 31.4ms\n",
      "117:\tlearn: 0.0107173\ttotal: 44.5ms\tremaining: 30.9ms\n",
      "118:\tlearn: 0.0107174\ttotal: 44.8ms\tremaining: 30.5ms\n",
      "119:\tlearn: 0.0105203\ttotal: 45.1ms\tremaining: 30.1ms\n",
      "120:\tlearn: 0.0105203\ttotal: 45.5ms\tremaining: 29.7ms\n",
      "121:\tlearn: 0.0105179\ttotal: 45.9ms\tremaining: 29.4ms\n",
      "122:\tlearn: 0.0105177\ttotal: 46.2ms\tremaining: 28.9ms\n",
      "123:\tlearn: 0.0105170\ttotal: 46.5ms\tremaining: 28.5ms\n",
      "124:\tlearn: 0.0105169\ttotal: 46.8ms\tremaining: 28.1ms\n",
      "125:\tlearn: 0.0105157\ttotal: 47.2ms\tremaining: 27.7ms\n",
      "126:\tlearn: 0.0105153\ttotal: 47.4ms\tremaining: 27.3ms\n",
      "127:\tlearn: 0.0104942\ttotal: 47.8ms\tremaining: 26.9ms\n",
      "128:\tlearn: 0.0104747\ttotal: 48.1ms\tremaining: 26.5ms\n",
      "129:\tlearn: 0.0104442\ttotal: 48.4ms\tremaining: 26.1ms\n",
      "130:\tlearn: 0.0103319\ttotal: 48.7ms\tremaining: 25.7ms\n",
      "131:\tlearn: 0.0103314\ttotal: 49ms\tremaining: 25.3ms\n",
      "132:\tlearn: 0.0103312\ttotal: 49.3ms\tremaining: 24.8ms\n",
      "133:\tlearn: 0.0103313\ttotal: 49.5ms\tremaining: 24.4ms\n",
      "134:\tlearn: 0.0103307\ttotal: 49.9ms\tremaining: 24ms\n",
      "135:\tlearn: 0.0103297\ttotal: 50.2ms\tremaining: 23.6ms\n",
      "136:\tlearn: 0.0103293\ttotal: 50.5ms\tremaining: 23.2ms\n",
      "137:\tlearn: 0.0101001\ttotal: 50.8ms\tremaining: 22.8ms\n",
      "138:\tlearn: 0.0097130\ttotal: 51.1ms\tremaining: 22.4ms\n",
      "139:\tlearn: 0.0096040\ttotal: 51.5ms\tremaining: 22.1ms\n",
      "140:\tlearn: 0.0094087\ttotal: 51.8ms\tremaining: 21.7ms\n",
      "141:\tlearn: 0.0092840\ttotal: 52.1ms\tremaining: 21.3ms\n",
      "142:\tlearn: 0.0089300\ttotal: 52.4ms\tremaining: 20.9ms\n",
      "143:\tlearn: 0.0088169\ttotal: 52.8ms\tremaining: 20.5ms\n",
      "144:\tlearn: 0.0087423\ttotal: 53.2ms\tremaining: 20.2ms\n",
      "145:\tlearn: 0.0087307\ttotal: 53.5ms\tremaining: 19.8ms\n",
      "146:\tlearn: 0.0087307\ttotal: 53.8ms\tremaining: 19.4ms\n",
      "147:\tlearn: 0.0087207\ttotal: 54.1ms\tremaining: 19ms\n",
      "148:\tlearn: 0.0086420\ttotal: 54.4ms\tremaining: 18.6ms\n",
      "149:\tlearn: 0.0085450\ttotal: 54.9ms\tremaining: 18.3ms\n",
      "150:\tlearn: 0.0084313\ttotal: 55.3ms\tremaining: 17.9ms\n",
      "151:\tlearn: 0.0084311\ttotal: 55.6ms\tremaining: 17.6ms\n",
      "152:\tlearn: 0.0083451\ttotal: 56ms\tremaining: 17.2ms\n",
      "153:\tlearn: 0.0082212\ttotal: 56.3ms\tremaining: 16.8ms\n",
      "154:\tlearn: 0.0081559\ttotal: 56.7ms\tremaining: 16.5ms\n",
      "155:\tlearn: 0.0081556\ttotal: 57.1ms\tremaining: 16.1ms\n",
      "156:\tlearn: 0.0081555\ttotal: 57.5ms\tremaining: 15.7ms\n",
      "157:\tlearn: 0.0081555\ttotal: 57.8ms\tremaining: 15.4ms\n",
      "158:\tlearn: 0.0081548\ttotal: 58.1ms\tremaining: 15ms\n",
      "159:\tlearn: 0.0080470\ttotal: 58.5ms\tremaining: 14.6ms\n",
      "160:\tlearn: 0.0079960\ttotal: 58.9ms\tremaining: 14.3ms\n",
      "161:\tlearn: 0.0079957\ttotal: 59.2ms\tremaining: 13.9ms\n",
      "162:\tlearn: 0.0078503\ttotal: 59.6ms\tremaining: 13.5ms\n",
      "163:\tlearn: 0.0078013\ttotal: 59.9ms\tremaining: 13.2ms\n",
      "164:\tlearn: 0.0077027\ttotal: 60.3ms\tremaining: 12.8ms\n",
      "165:\tlearn: 0.0076027\ttotal: 60.6ms\tremaining: 12.4ms\n",
      "166:\tlearn: 0.0074421\ttotal: 61ms\tremaining: 12.1ms\n",
      "167:\tlearn: 0.0074420\ttotal: 61.3ms\tremaining: 11.7ms\n",
      "168:\tlearn: 0.0074357\ttotal: 61.7ms\tremaining: 11.3ms\n",
      "169:\tlearn: 0.0073067\ttotal: 61.9ms\tremaining: 10.9ms\n",
      "170:\tlearn: 0.0071444\ttotal: 62.3ms\tremaining: 10.6ms\n",
      "171:\tlearn: 0.0070725\ttotal: 62.6ms\tremaining: 10.2ms\n",
      "172:\tlearn: 0.0070718\ttotal: 63ms\tremaining: 9.83ms\n",
      "173:\tlearn: 0.0070717\ttotal: 63.3ms\tremaining: 9.45ms\n",
      "174:\tlearn: 0.0070088\ttotal: 63.6ms\tremaining: 9.08ms\n",
      "175:\tlearn: 0.0070085\ttotal: 63.9ms\tremaining: 8.71ms\n",
      "176:\tlearn: 0.0070070\ttotal: 64.2ms\tremaining: 8.35ms\n",
      "177:\tlearn: 0.0070070\ttotal: 64.5ms\tremaining: 7.97ms\n",
      "178:\tlearn: 0.0070068\ttotal: 64.7ms\tremaining: 7.59ms\n",
      "179:\tlearn: 0.0070062\ttotal: 65.1ms\tremaining: 7.23ms\n",
      "180:\tlearn: 0.0070059\ttotal: 65.4ms\tremaining: 6.86ms\n",
      "181:\tlearn: 0.0070057\ttotal: 65.7ms\tremaining: 6.5ms\n",
      "182:\tlearn: 0.0070057\ttotal: 65.9ms\tremaining: 6.13ms\n",
      "183:\tlearn: 0.0069891\ttotal: 66.3ms\tremaining: 5.76ms\n",
      "184:\tlearn: 0.0069449\ttotal: 66.7ms\tremaining: 5.41ms\n",
      "185:\tlearn: 0.0068000\ttotal: 67ms\tremaining: 5.05ms\n",
      "186:\tlearn: 0.0067149\ttotal: 67.4ms\tremaining: 4.69ms\n",
      "187:\tlearn: 0.0065761\ttotal: 67.7ms\tremaining: 4.32ms\n",
      "188:\tlearn: 0.0064943\ttotal: 68.1ms\tremaining: 3.96ms\n",
      "189:\tlearn: 0.0064618\ttotal: 68.4ms\tremaining: 3.6ms\n",
      "190:\tlearn: 0.0064160\ttotal: 68.7ms\tremaining: 3.23ms\n",
      "191:\tlearn: 0.0063649\ttotal: 69ms\tremaining: 2.88ms\n",
      "192:\tlearn: 0.0063639\ttotal: 69.3ms\tremaining: 2.51ms\n",
      "193:\tlearn: 0.0063637\ttotal: 69.6ms\tremaining: 2.15ms\n",
      "194:\tlearn: 0.0063220\ttotal: 69.9ms\tremaining: 1.79ms\n",
      "195:\tlearn: 0.0063044\ttotal: 70.2ms\tremaining: 1.43ms\n",
      "196:\tlearn: 0.0062183\ttotal: 70.6ms\tremaining: 1.07ms\n",
      "197:\tlearn: 0.0061272\ttotal: 71ms\tremaining: 717us\n",
      "198:\tlearn: 0.0059215\ttotal: 71.5ms\tremaining: 359us\n",
      "199:\tlearn: 0.0059214\ttotal: 71.8ms\tremaining: 0us\n"
     ]
    },
    {
     "data": {
      "text/plain": "<catboost.core.CatBoostClassifier at 0x14267a550>"
     },
     "execution_count": 201,
     "metadata": {},
     "output_type": "execute_result"
    }
   ],
   "source": [
    "from catboost import CatBoostRegressor, CatBoostClassifier\n",
    "\n",
    "model = CatBoostClassifier(iterations=200,\n",
    "                          learning_rate=1,\n",
    "                          depth=3)\n",
    "model.fit(X, y)"
   ],
   "metadata": {
    "collapsed": false,
    "ExecuteTime": {
     "end_time": "2024-03-19T18:27:03.636573Z",
     "start_time": "2024-03-19T18:27:03.552733Z"
    }
   }
  },
  {
   "cell_type": "code",
   "execution_count": 202,
   "outputs": [],
   "source": [
    "y_pred = model.predict(df_test_encoded)"
   ],
   "metadata": {
    "collapsed": false,
    "ExecuteTime": {
     "end_time": "2024-03-19T18:27:04.745887Z",
     "start_time": "2024-03-19T18:27:04.740594Z"
    }
   }
  },
  {
   "cell_type": "code",
   "execution_count": 203,
   "outputs": [],
   "source": [
    "result_df = pd.DataFrame({'target': y_pred})\n",
    "result_df.to_csv('result.csv', index=False)"
   ],
   "metadata": {
    "collapsed": false,
    "ExecuteTime": {
     "end_time": "2024-03-19T18:27:05.477949Z",
     "start_time": "2024-03-19T18:27:05.474654Z"
    }
   }
  },
  {
   "cell_type": "code",
   "execution_count": 204,
   "outputs": [
    {
     "data": {
      "text/plain": "     target\n0         0\n1         0\n2         0\n3         0\n4         1\n..      ...\n168       1\n169       1\n170       0\n171       1\n172       0\n\n[173 rows x 1 columns]",
      "text/html": "<div>\n<style scoped>\n    .dataframe tbody tr th:only-of-type {\n        vertical-align: middle;\n    }\n\n    .dataframe tbody tr th {\n        vertical-align: top;\n    }\n\n    .dataframe thead th {\n        text-align: right;\n    }\n</style>\n<table border=\"1\" class=\"dataframe\">\n  <thead>\n    <tr style=\"text-align: right;\">\n      <th></th>\n      <th>target</th>\n    </tr>\n  </thead>\n  <tbody>\n    <tr>\n      <th>0</th>\n      <td>0</td>\n    </tr>\n    <tr>\n      <th>1</th>\n      <td>0</td>\n    </tr>\n    <tr>\n      <th>2</th>\n      <td>0</td>\n    </tr>\n    <tr>\n      <th>3</th>\n      <td>0</td>\n    </tr>\n    <tr>\n      <th>4</th>\n      <td>1</td>\n    </tr>\n    <tr>\n      <th>...</th>\n      <td>...</td>\n    </tr>\n    <tr>\n      <th>168</th>\n      <td>1</td>\n    </tr>\n    <tr>\n      <th>169</th>\n      <td>1</td>\n    </tr>\n    <tr>\n      <th>170</th>\n      <td>0</td>\n    </tr>\n    <tr>\n      <th>171</th>\n      <td>1</td>\n    </tr>\n    <tr>\n      <th>172</th>\n      <td>0</td>\n    </tr>\n  </tbody>\n</table>\n<p>173 rows × 1 columns</p>\n</div>"
     },
     "execution_count": 204,
     "metadata": {},
     "output_type": "execute_result"
    }
   ],
   "source": [
    "result_df"
   ],
   "metadata": {
    "collapsed": false,
    "ExecuteTime": {
     "end_time": "2024-03-19T18:27:06.214254Z",
     "start_time": "2024-03-19T18:27:06.210790Z"
    }
   }
  }
 ],
 "metadata": {
  "kernelspec": {
   "display_name": "Python 3",
   "language": "python",
   "name": "python3"
  },
  "language_info": {
   "codemirror_mode": {
    "name": "ipython",
    "version": 2
   },
   "file_extension": ".py",
   "mimetype": "text/x-python",
   "name": "python",
   "nbconvert_exporter": "python",
   "pygments_lexer": "ipython2",
   "version": "2.7.6"
  }
 },
 "nbformat": 4,
 "nbformat_minor": 0
}
