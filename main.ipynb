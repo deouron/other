{
 "cells": [
  {
   "cell_type": "code",
   "execution_count": 25,
   "metadata": {
    "collapsed": true,
    "ExecuteTime": {
     "end_time": "2024-03-10T08:03:56.933385Z",
     "start_time": "2024-03-10T08:03:56.917711Z"
    }
   },
   "outputs": [],
   "source": [
    "import numpy as np\n",
    "import pandas as pd\n",
    "\n",
    "df_train = pd.read_csv('TrainData.csv')\n",
    "df_test = pd.read_csv('TestData.csv')"
   ]
  },
  {
   "cell_type": "code",
   "execution_count": 46,
   "outputs": [
    {
     "data": {
      "text/plain": "                0           1           2           3           4           5  \\\ncount  513.000000  513.000000  513.000000  513.000000  513.000000  513.000000   \nmean     0.678363   31.283225    4.992037    1.768031    7.267057    4.699805   \nstd      0.467561   11.434084    5.123115    0.427099    3.653020    2.010602   \nmin      0.000000   13.750000    0.000000    1.000000    1.000000    1.000000   \n25%      0.000000   22.670000    1.085000    2.000000    4.000000    4.000000   \n50%      1.000000   28.580000    3.000000    2.000000    8.000000    4.000000   \n75%      1.000000   37.330000    7.835000    2.000000   10.000000    5.000000   \nmax      1.000000   80.250000   28.000000    3.000000   14.000000    9.000000   \n\n                6           8           9          10          11  \\\ncount  513.000000  513.000000  513.000000  513.000000  513.000000   \nmean     2.290770    0.430799    2.469786    0.458090    1.935673   \nstd      3.349502    0.495671    5.158765    0.498727    0.275558   \nmin      0.000000    0.000000    0.000000    0.000000    1.000000   \n25%      0.165000    0.000000    0.000000    0.000000    2.000000   \n50%      1.000000    0.000000    0.000000    0.000000    2.000000   \n75%      3.000000    1.000000    3.000000    1.000000    2.000000   \nmax     28.500000    1.000000   67.000000    1.000000    3.000000   \n\n                12            13  \ncount   513.000000    510.000000  \nmean    180.489279    931.423529  \nstd     169.020236   3990.262500  \nmin       0.000000      1.000000  \n25%      80.000000      1.000000  \n50%     160.000000      5.000000  \n75%     260.000000    361.750000  \nmax    2000.000000  51101.000000  ",
      "text/html": "<div>\n<style scoped>\n    .dataframe tbody tr th:only-of-type {\n        vertical-align: middle;\n    }\n\n    .dataframe tbody tr th {\n        vertical-align: top;\n    }\n\n    .dataframe thead th {\n        text-align: right;\n    }\n</style>\n<table border=\"1\" class=\"dataframe\">\n  <thead>\n    <tr style=\"text-align: right;\">\n      <th></th>\n      <th>0</th>\n      <th>1</th>\n      <th>2</th>\n      <th>3</th>\n      <th>4</th>\n      <th>5</th>\n      <th>6</th>\n      <th>8</th>\n      <th>9</th>\n      <th>10</th>\n      <th>11</th>\n      <th>12</th>\n      <th>13</th>\n    </tr>\n  </thead>\n  <tbody>\n    <tr>\n      <th>count</th>\n      <td>513.000000</td>\n      <td>513.000000</td>\n      <td>513.000000</td>\n      <td>513.000000</td>\n      <td>513.000000</td>\n      <td>513.000000</td>\n      <td>513.000000</td>\n      <td>513.000000</td>\n      <td>513.000000</td>\n      <td>513.000000</td>\n      <td>513.000000</td>\n      <td>513.000000</td>\n      <td>510.000000</td>\n    </tr>\n    <tr>\n      <th>mean</th>\n      <td>0.678363</td>\n      <td>31.283225</td>\n      <td>4.992037</td>\n      <td>1.768031</td>\n      <td>7.267057</td>\n      <td>4.699805</td>\n      <td>2.290770</td>\n      <td>0.430799</td>\n      <td>2.469786</td>\n      <td>0.458090</td>\n      <td>1.935673</td>\n      <td>180.489279</td>\n      <td>931.423529</td>\n    </tr>\n    <tr>\n      <th>std</th>\n      <td>0.467561</td>\n      <td>11.434084</td>\n      <td>5.123115</td>\n      <td>0.427099</td>\n      <td>3.653020</td>\n      <td>2.010602</td>\n      <td>3.349502</td>\n      <td>0.495671</td>\n      <td>5.158765</td>\n      <td>0.498727</td>\n      <td>0.275558</td>\n      <td>169.020236</td>\n      <td>3990.262500</td>\n    </tr>\n    <tr>\n      <th>min</th>\n      <td>0.000000</td>\n      <td>13.750000</td>\n      <td>0.000000</td>\n      <td>1.000000</td>\n      <td>1.000000</td>\n      <td>1.000000</td>\n      <td>0.000000</td>\n      <td>0.000000</td>\n      <td>0.000000</td>\n      <td>0.000000</td>\n      <td>1.000000</td>\n      <td>0.000000</td>\n      <td>1.000000</td>\n    </tr>\n    <tr>\n      <th>25%</th>\n      <td>0.000000</td>\n      <td>22.670000</td>\n      <td>1.085000</td>\n      <td>2.000000</td>\n      <td>4.000000</td>\n      <td>4.000000</td>\n      <td>0.165000</td>\n      <td>0.000000</td>\n      <td>0.000000</td>\n      <td>0.000000</td>\n      <td>2.000000</td>\n      <td>80.000000</td>\n      <td>1.000000</td>\n    </tr>\n    <tr>\n      <th>50%</th>\n      <td>1.000000</td>\n      <td>28.580000</td>\n      <td>3.000000</td>\n      <td>2.000000</td>\n      <td>8.000000</td>\n      <td>4.000000</td>\n      <td>1.000000</td>\n      <td>0.000000</td>\n      <td>0.000000</td>\n      <td>0.000000</td>\n      <td>2.000000</td>\n      <td>160.000000</td>\n      <td>5.000000</td>\n    </tr>\n    <tr>\n      <th>75%</th>\n      <td>1.000000</td>\n      <td>37.330000</td>\n      <td>7.835000</td>\n      <td>2.000000</td>\n      <td>10.000000</td>\n      <td>5.000000</td>\n      <td>3.000000</td>\n      <td>1.000000</td>\n      <td>3.000000</td>\n      <td>1.000000</td>\n      <td>2.000000</td>\n      <td>260.000000</td>\n      <td>361.750000</td>\n    </tr>\n    <tr>\n      <th>max</th>\n      <td>1.000000</td>\n      <td>80.250000</td>\n      <td>28.000000</td>\n      <td>3.000000</td>\n      <td>14.000000</td>\n      <td>9.000000</td>\n      <td>28.500000</td>\n      <td>1.000000</td>\n      <td>67.000000</td>\n      <td>1.000000</td>\n      <td>3.000000</td>\n      <td>2000.000000</td>\n      <td>51101.000000</td>\n    </tr>\n  </tbody>\n</table>\n</div>"
     },
     "execution_count": 46,
     "metadata": {},
     "output_type": "execute_result"
    }
   ],
   "source": [
    "df_train.describe()"
   ],
   "metadata": {
    "collapsed": false,
    "ExecuteTime": {
     "end_time": "2024-03-10T08:57:20.676311Z",
     "start_time": "2024-03-10T08:57:20.644305Z"
    }
   }
  },
  {
   "cell_type": "code",
   "execution_count": 47,
   "outputs": [
    {
     "data": {
      "text/plain": "          7  target\ncount   513     513\nunique    2       4\ntop       A       0\nfreq    279     278",
      "text/html": "<div>\n<style scoped>\n    .dataframe tbody tr th:only-of-type {\n        vertical-align: middle;\n    }\n\n    .dataframe tbody tr th {\n        vertical-align: top;\n    }\n\n    .dataframe thead th {\n        text-align: right;\n    }\n</style>\n<table border=\"1\" class=\"dataframe\">\n  <thead>\n    <tr style=\"text-align: right;\">\n      <th></th>\n      <th>7</th>\n      <th>target</th>\n    </tr>\n  </thead>\n  <tbody>\n    <tr>\n      <th>count</th>\n      <td>513</td>\n      <td>513</td>\n    </tr>\n    <tr>\n      <th>unique</th>\n      <td>2</td>\n      <td>4</td>\n    </tr>\n    <tr>\n      <th>top</th>\n      <td>A</td>\n      <td>0</td>\n    </tr>\n    <tr>\n      <th>freq</th>\n      <td>279</td>\n      <td>278</td>\n    </tr>\n  </tbody>\n</table>\n</div>"
     },
     "execution_count": 47,
     "metadata": {},
     "output_type": "execute_result"
    }
   ],
   "source": [
    "df_train.describe(include='object')\n",
    "\n",
    "# df_train['col'].fillna('unknown')"
   ],
   "metadata": {
    "collapsed": false,
    "ExecuteTime": {
     "end_time": "2024-03-10T08:57:31.328626Z",
     "start_time": "2024-03-10T08:57:31.316218Z"
    }
   }
  },
  {
   "cell_type": "code",
   "execution_count": 2,
   "outputs": [
    {
     "data": {
      "text/plain": "     0      1       2  3   4  5       6  7  8   9  10  11   12      13  \\\n308  0  24.83   4.500  2   9  4   1.000  B  0   0   1   2  360     7.0   \n244  1  48.17   7.625  2   9  8  15.500  A  1  12   0   2    0   791.0   \n459  1  22.33  11.000  2   9  4   2.000  A  1   1   0   2   80   279.0   \n316  0  57.08  19.500  2   8  4   5.500  A  1   7   0   2    0  3001.0   \n289  1  24.17   0.875  2  11  4   4.625  A  1   2   1   2  520  2001.0   \n\n        target  \n308  Not churn  \n244      Churn  \n459      Churn  \n316      Churn  \n289      Churn  ",
      "text/html": "<div>\n<style scoped>\n    .dataframe tbody tr th:only-of-type {\n        vertical-align: middle;\n    }\n\n    .dataframe tbody tr th {\n        vertical-align: top;\n    }\n\n    .dataframe thead th {\n        text-align: right;\n    }\n</style>\n<table border=\"1\" class=\"dataframe\">\n  <thead>\n    <tr style=\"text-align: right;\">\n      <th></th>\n      <th>0</th>\n      <th>1</th>\n      <th>2</th>\n      <th>3</th>\n      <th>4</th>\n      <th>5</th>\n      <th>6</th>\n      <th>7</th>\n      <th>8</th>\n      <th>9</th>\n      <th>10</th>\n      <th>11</th>\n      <th>12</th>\n      <th>13</th>\n      <th>target</th>\n    </tr>\n  </thead>\n  <tbody>\n    <tr>\n      <th>308</th>\n      <td>0</td>\n      <td>24.83</td>\n      <td>4.500</td>\n      <td>2</td>\n      <td>9</td>\n      <td>4</td>\n      <td>1.000</td>\n      <td>B</td>\n      <td>0</td>\n      <td>0</td>\n      <td>1</td>\n      <td>2</td>\n      <td>360</td>\n      <td>7.0</td>\n      <td>Not churn</td>\n    </tr>\n    <tr>\n      <th>244</th>\n      <td>1</td>\n      <td>48.17</td>\n      <td>7.625</td>\n      <td>2</td>\n      <td>9</td>\n      <td>8</td>\n      <td>15.500</td>\n      <td>A</td>\n      <td>1</td>\n      <td>12</td>\n      <td>0</td>\n      <td>2</td>\n      <td>0</td>\n      <td>791.0</td>\n      <td>Churn</td>\n    </tr>\n    <tr>\n      <th>459</th>\n      <td>1</td>\n      <td>22.33</td>\n      <td>11.000</td>\n      <td>2</td>\n      <td>9</td>\n      <td>4</td>\n      <td>2.000</td>\n      <td>A</td>\n      <td>1</td>\n      <td>1</td>\n      <td>0</td>\n      <td>2</td>\n      <td>80</td>\n      <td>279.0</td>\n      <td>Churn</td>\n    </tr>\n    <tr>\n      <th>316</th>\n      <td>0</td>\n      <td>57.08</td>\n      <td>19.500</td>\n      <td>2</td>\n      <td>8</td>\n      <td>4</td>\n      <td>5.500</td>\n      <td>A</td>\n      <td>1</td>\n      <td>7</td>\n      <td>0</td>\n      <td>2</td>\n      <td>0</td>\n      <td>3001.0</td>\n      <td>Churn</td>\n    </tr>\n    <tr>\n      <th>289</th>\n      <td>1</td>\n      <td>24.17</td>\n      <td>0.875</td>\n      <td>2</td>\n      <td>11</td>\n      <td>4</td>\n      <td>4.625</td>\n      <td>A</td>\n      <td>1</td>\n      <td>2</td>\n      <td>1</td>\n      <td>2</td>\n      <td>520</td>\n      <td>2001.0</td>\n      <td>Churn</td>\n    </tr>\n  </tbody>\n</table>\n</div>"
     },
     "execution_count": 2,
     "metadata": {},
     "output_type": "execute_result"
    }
   ],
   "source": [
    "df_train.sample(5)"
   ],
   "metadata": {
    "collapsed": false,
    "ExecuteTime": {
     "end_time": "2024-03-10T07:56:52.731130Z",
     "start_time": "2024-03-10T07:56:52.727374Z"
    }
   }
  },
  {
   "cell_type": "code",
   "execution_count": 26,
   "outputs": [
    {
     "name": "stdout",
     "output_type": "stream",
     "text": [
      "Количество столбцов с пропусками в тренировочной выборке: 2\n"
     ]
    }
   ],
   "source": [
    "# Проверка пропусков в тренировочной выборке\n",
    "missing_train = df_train.isnull().sum()\n",
    "\n",
    "# Количество столбцов с пропусками\n",
    "columns_with_missing_train = missing_train[missing_train > 0].count()\n",
    "\n",
    "# Вывод результата\n",
    "print(f\"Количество столбцов с пропусками в тренировочной выборке: {columns_with_missing_train}\")\n"
   ],
   "metadata": {
    "collapsed": false,
    "ExecuteTime": {
     "end_time": "2024-03-10T08:03:57.734021Z",
     "start_time": "2024-03-10T08:03:57.702455Z"
    }
   }
  },
  {
   "cell_type": "code",
   "execution_count": 27,
   "outputs": [
    {
     "name": "stdout",
     "output_type": "stream",
     "text": [
      "Среднее значение в столбце с наибольшим количеством пропусков: 31.3\n"
     ]
    }
   ],
   "source": [
    "# Находим столбец с наибольшим количеством пропусков в тренировочной выборке\n",
    "max_missing_column_train = missing_train.idxmax()\n",
    "\n",
    "# Вычисляем среднее значение по столбцу\n",
    "mean_value_train = df_train[max_missing_column_train].mean()\n",
    "\n",
    "# Заполняем пропуски средним значением\n",
    "df_train[max_missing_column_train].fillna(mean_value_train, inplace=True)\n",
    "\n",
    "# Ответ: значение вычисленного среднего, округленное до десятых\n",
    "rounded_mean_value_train = round(mean_value_train, 1)\n",
    "print(f\"Среднее значение в столбце с наибольшим количеством пропусков: {rounded_mean_value_train}\")\n"
   ],
   "metadata": {
    "collapsed": false,
    "ExecuteTime": {
     "end_time": "2024-03-10T08:03:58.890984Z",
     "start_time": "2024-03-10T08:03:58.883375Z"
    }
   }
  },
  {
   "cell_type": "code",
   "execution_count": 28,
   "outputs": [
    {
     "name": "stdout",
     "output_type": "stream",
     "text": [
      "Количество удаленных строк: 0\n"
     ]
    }
   ],
   "source": [
    "# Находим столбец с наименьшим количеством пропусков в тренировочной выборке\n",
    "min_missing_column_train = missing_train.idxmin()\n",
    "\n",
    "# Удаляем строки с пропусками в этом столбце\n",
    "df_train_cleaned = df_train.dropna(subset=[min_missing_column_train])\n",
    "\n",
    "# Количество удаленных строк\n",
    "deleted_rows_count = len(df_train) - len(df_train_cleaned)\n",
    "\n",
    "# Вывод результата\n",
    "print(f\"Количество удаленных строк: {deleted_rows_count}\")\n"
   ],
   "metadata": {
    "collapsed": false,
    "ExecuteTime": {
     "end_time": "2024-03-10T08:04:00.409183Z",
     "start_time": "2024-03-10T08:04:00.404367Z"
    }
   }
  },
  {
   "cell_type": "code",
   "execution_count": 29,
   "outputs": [
    {
     "name": "stdout",
     "output_type": "stream",
     "text": [
      "Количество исправленных опечаток: 3\n"
     ]
    }
   ],
   "source": [
    "# Проверка уникальных значений в столбце с целевой переменной\n",
    "unique_values_target = df_train['target'].unique()\n",
    "\n",
    "# Количество опечаток, которые нужно исправить\n",
    "typos_to_fix = sum(['Churn' not in val and 'Not Churn' not in val for val in unique_values_target])\n",
    "\n",
    "# Исправление опечаток\n",
    "df_train['target'] = df_train['target'].replace({'Churn': 1, 'Not churn': 0})\n",
    "\n",
    "# Вывод результата\n",
    "print(f\"Количество исправленных опечаток: {typos_to_fix}\")\n"
   ],
   "metadata": {
    "collapsed": false,
    "ExecuteTime": {
     "end_time": "2024-03-10T08:04:01.683822Z",
     "start_time": "2024-03-10T08:04:01.670417Z"
    }
   }
  },
  {
   "cell_type": "code",
   "execution_count": 30,
   "outputs": [
    {
     "name": "stdout",
     "output_type": "stream",
     "text": [
      "Количество столбцов с меньше чем 5 различными значениями: 6\n"
     ]
    }
   ],
   "source": [
    "# Исключаем столбец target\n",
    "columns_to_check = df_train.columns[df_train.columns != 'target']\n",
    "\n",
    "# Находим количество столбцов с менее чем 5 различными значениями\n",
    "columns_with_few_values = [col for col in columns_to_check if df_train[col].nunique() < 5]\n",
    "\n",
    "# Вывод результата\n",
    "print(f\"Количество столбцов с меньше чем 5 различными значениями: {len(columns_with_few_values)}\")\n"
   ],
   "metadata": {
    "collapsed": false,
    "ExecuteTime": {
     "end_time": "2024-03-10T08:04:03.121722Z",
     "start_time": "2024-03-10T08:04:03.120459Z"
    }
   }
  },
  {
   "cell_type": "code",
   "execution_count": 31,
   "outputs": [
    {
     "data": {
      "text/plain": "    0      1     2  3   4  5     6  7  8   9  10  11  12     13 target\n76  0  19.67  0.21  2  11  8  0.29  A  1  11   0   2  80  100.0      1",
      "text/html": "<div>\n<style scoped>\n    .dataframe tbody tr th:only-of-type {\n        vertical-align: middle;\n    }\n\n    .dataframe tbody tr th {\n        vertical-align: top;\n    }\n\n    .dataframe thead th {\n        text-align: right;\n    }\n</style>\n<table border=\"1\" class=\"dataframe\">\n  <thead>\n    <tr style=\"text-align: right;\">\n      <th></th>\n      <th>0</th>\n      <th>1</th>\n      <th>2</th>\n      <th>3</th>\n      <th>4</th>\n      <th>5</th>\n      <th>6</th>\n      <th>7</th>\n      <th>8</th>\n      <th>9</th>\n      <th>10</th>\n      <th>11</th>\n      <th>12</th>\n      <th>13</th>\n      <th>target</th>\n    </tr>\n  </thead>\n  <tbody>\n    <tr>\n      <th>76</th>\n      <td>0</td>\n      <td>19.67</td>\n      <td>0.21</td>\n      <td>2</td>\n      <td>11</td>\n      <td>8</td>\n      <td>0.29</td>\n      <td>A</td>\n      <td>1</td>\n      <td>11</td>\n      <td>0</td>\n      <td>2</td>\n      <td>80</td>\n      <td>100.0</td>\n      <td>1</td>\n    </tr>\n  </tbody>\n</table>\n</div>"
     },
     "execution_count": 31,
     "metadata": {},
     "output_type": "execute_result"
    }
   ],
   "source": [
    "df_train.sample()"
   ],
   "metadata": {
    "collapsed": false,
    "ExecuteTime": {
     "end_time": "2024-03-10T08:04:05.153479Z",
     "start_time": "2024-03-10T08:04:05.152435Z"
    }
   }
  },
  {
   "cell_type": "code",
   "execution_count": 35,
   "outputs": [
    {
     "data": {
      "text/plain": "     0          1      2  3   4  5       6  7  8   9  10  11   12      13  \\\n0    1  34.750000  15.00  2  12  7   5.375  A  1   9   1   2    0   135.0   \n2    1  20.250000   9.96  2  10  2   0.000  A  0   0   0   2    0     1.0   \n3    1  31.283225  28.00  1   8  4  28.500  A  1  40   0   2    0    16.0   \n5    0  28.500000   1.00  2  11  4   1.000  A  1   2   1   2  167   501.0   \n6    1  31.570000   4.00  2  14  4   5.000  A  1   3   1   2  290  2280.0   \n..  ..        ...    ... ..  .. ..     ... .. ..  ..  ..  ..  ...     ...   \n505  0  27.670000   1.50  2   7  4   2.000  A  0   0   0   1  368     1.0   \n509  0  24.750000   3.00  2  11  8   1.835  A  1  19   0   2    0   501.0   \n510  1  31.315675   8.50  2  10  8   7.000  A  1   3   0   2    0     1.0   \n511  1  31.315675   3.00  2  11  8   6.000  A  1  11   0   2   80     1.0   \n512  0  26.920000  13.50  2  11  8   5.000  A  1   2   0   2    0  5001.0   \n\n    target  \n0        1  \n2        1  \n3        1  \n5        0  \n6        1  \n..     ...  \n505      0  \n509      1  \n510      1  \n511      1  \n512      1  \n\n[279 rows x 15 columns]",
      "text/html": "<div>\n<style scoped>\n    .dataframe tbody tr th:only-of-type {\n        vertical-align: middle;\n    }\n\n    .dataframe tbody tr th {\n        vertical-align: top;\n    }\n\n    .dataframe thead th {\n        text-align: right;\n    }\n</style>\n<table border=\"1\" class=\"dataframe\">\n  <thead>\n    <tr style=\"text-align: right;\">\n      <th></th>\n      <th>0</th>\n      <th>1</th>\n      <th>2</th>\n      <th>3</th>\n      <th>4</th>\n      <th>5</th>\n      <th>6</th>\n      <th>7</th>\n      <th>8</th>\n      <th>9</th>\n      <th>10</th>\n      <th>11</th>\n      <th>12</th>\n      <th>13</th>\n      <th>target</th>\n    </tr>\n  </thead>\n  <tbody>\n    <tr>\n      <th>0</th>\n      <td>1</td>\n      <td>34.750000</td>\n      <td>15.00</td>\n      <td>2</td>\n      <td>12</td>\n      <td>7</td>\n      <td>5.375</td>\n      <td>A</td>\n      <td>1</td>\n      <td>9</td>\n      <td>1</td>\n      <td>2</td>\n      <td>0</td>\n      <td>135.0</td>\n      <td>1</td>\n    </tr>\n    <tr>\n      <th>2</th>\n      <td>1</td>\n      <td>20.250000</td>\n      <td>9.96</td>\n      <td>2</td>\n      <td>10</td>\n      <td>2</td>\n      <td>0.000</td>\n      <td>A</td>\n      <td>0</td>\n      <td>0</td>\n      <td>0</td>\n      <td>2</td>\n      <td>0</td>\n      <td>1.0</td>\n      <td>1</td>\n    </tr>\n    <tr>\n      <th>3</th>\n      <td>1</td>\n      <td>31.283225</td>\n      <td>28.00</td>\n      <td>1</td>\n      <td>8</td>\n      <td>4</td>\n      <td>28.500</td>\n      <td>A</td>\n      <td>1</td>\n      <td>40</td>\n      <td>0</td>\n      <td>2</td>\n      <td>0</td>\n      <td>16.0</td>\n      <td>1</td>\n    </tr>\n    <tr>\n      <th>5</th>\n      <td>0</td>\n      <td>28.500000</td>\n      <td>1.00</td>\n      <td>2</td>\n      <td>11</td>\n      <td>4</td>\n      <td>1.000</td>\n      <td>A</td>\n      <td>1</td>\n      <td>2</td>\n      <td>1</td>\n      <td>2</td>\n      <td>167</td>\n      <td>501.0</td>\n      <td>0</td>\n    </tr>\n    <tr>\n      <th>6</th>\n      <td>1</td>\n      <td>31.570000</td>\n      <td>4.00</td>\n      <td>2</td>\n      <td>14</td>\n      <td>4</td>\n      <td>5.000</td>\n      <td>A</td>\n      <td>1</td>\n      <td>3</td>\n      <td>1</td>\n      <td>2</td>\n      <td>290</td>\n      <td>2280.0</td>\n      <td>1</td>\n    </tr>\n    <tr>\n      <th>...</th>\n      <td>...</td>\n      <td>...</td>\n      <td>...</td>\n      <td>...</td>\n      <td>...</td>\n      <td>...</td>\n      <td>...</td>\n      <td>...</td>\n      <td>...</td>\n      <td>...</td>\n      <td>...</td>\n      <td>...</td>\n      <td>...</td>\n      <td>...</td>\n      <td>...</td>\n    </tr>\n    <tr>\n      <th>505</th>\n      <td>0</td>\n      <td>27.670000</td>\n      <td>1.50</td>\n      <td>2</td>\n      <td>7</td>\n      <td>4</td>\n      <td>2.000</td>\n      <td>A</td>\n      <td>0</td>\n      <td>0</td>\n      <td>0</td>\n      <td>1</td>\n      <td>368</td>\n      <td>1.0</td>\n      <td>0</td>\n    </tr>\n    <tr>\n      <th>509</th>\n      <td>0</td>\n      <td>24.750000</td>\n      <td>3.00</td>\n      <td>2</td>\n      <td>11</td>\n      <td>8</td>\n      <td>1.835</td>\n      <td>A</td>\n      <td>1</td>\n      <td>19</td>\n      <td>0</td>\n      <td>2</td>\n      <td>0</td>\n      <td>501.0</td>\n      <td>1</td>\n    </tr>\n    <tr>\n      <th>510</th>\n      <td>1</td>\n      <td>31.315675</td>\n      <td>8.50</td>\n      <td>2</td>\n      <td>10</td>\n      <td>8</td>\n      <td>7.000</td>\n      <td>A</td>\n      <td>1</td>\n      <td>3</td>\n      <td>0</td>\n      <td>2</td>\n      <td>0</td>\n      <td>1.0</td>\n      <td>1</td>\n    </tr>\n    <tr>\n      <th>511</th>\n      <td>1</td>\n      <td>31.315675</td>\n      <td>3.00</td>\n      <td>2</td>\n      <td>11</td>\n      <td>8</td>\n      <td>6.000</td>\n      <td>A</td>\n      <td>1</td>\n      <td>11</td>\n      <td>0</td>\n      <td>2</td>\n      <td>80</td>\n      <td>1.0</td>\n      <td>1</td>\n    </tr>\n    <tr>\n      <th>512</th>\n      <td>0</td>\n      <td>26.920000</td>\n      <td>13.50</td>\n      <td>2</td>\n      <td>11</td>\n      <td>8</td>\n      <td>5.000</td>\n      <td>A</td>\n      <td>1</td>\n      <td>2</td>\n      <td>0</td>\n      <td>2</td>\n      <td>0</td>\n      <td>5001.0</td>\n      <td>1</td>\n    </tr>\n  </tbody>\n</table>\n<p>279 rows × 15 columns</p>\n</div>"
     },
     "execution_count": 35,
     "metadata": {},
     "output_type": "execute_result"
    }
   ],
   "source": [
    "df_train[df_train['7'] == 'A']"
   ],
   "metadata": {
    "collapsed": false,
    "ExecuteTime": {
     "end_time": "2024-03-10T08:04:43.449931Z",
     "start_time": "2024-03-10T08:04:43.443539Z"
    }
   }
  },
  {
   "cell_type": "code",
   "execution_count": 34,
   "outputs": [
    {
     "name": "stdout",
     "output_type": "stream",
     "text": [
      "Нет\n"
     ]
    }
   ],
   "source": [
    "# Проверка, все ли клиенты с target=1 имеют значение категориального признака A\n",
    "result = all(df_train[df_train['target'] == 1]['7'] == 'A')\n",
    "\n",
    "# Вывод результата\n",
    "print(\"Да\" if result else \"Нет\")\n"
   ],
   "metadata": {
    "collapsed": false,
    "ExecuteTime": {
     "end_time": "2024-03-10T08:04:25.159094Z",
     "start_time": "2024-03-10T08:04:25.144944Z"
    }
   }
  },
  {
   "cell_type": "code",
   "execution_count": 37,
   "outputs": [
    {
     "name": "stdout",
     "output_type": "stream",
     "text": [
      "Доля ушедших клиентов: 0.51\n"
     ]
    }
   ],
   "source": [
    "# Вычисление среднего и медианы\n",
    "mean_feature_2 = df_train['2'].mean()\n",
    "median_feature_13 = df_train['13'].median()\n",
    "\n",
    "# Фильтрация данных\n",
    "filtered_clients = df_train[(df_train['2'] > mean_feature_2) & (df_train['13'] < median_feature_13)]\n",
    "\n",
    "# Вычисление доли ушедших клиентов\n",
    "churned_fraction = filtered_clients['target'].mean()\n",
    "\n",
    "# Вывод результата\n",
    "print(f\"Доля ушедших клиентов: {churned_fraction:.2f}\")\n"
   ],
   "metadata": {
    "collapsed": false,
    "ExecuteTime": {
     "end_time": "2024-03-10T08:05:44.887271Z",
     "start_time": "2024-03-10T08:05:44.881283Z"
    }
   }
  },
  {
   "cell_type": "code",
   "execution_count": 42,
   "outputs": [
    {
     "name": "stdout",
     "output_type": "stream",
     "text": [
      "Количество столбцов в тестовых данных после кодировки: (173, 14)\n"
     ]
    }
   ],
   "source": [
    "from sklearn.preprocessing import LabelEncoder\n",
    "\n",
    "# Копирование данных\n",
    "df_train_encoded = df_train.copy()\n",
    "df_test_encoded = df_test.copy()\n",
    "\n",
    "# Инициализация LabelEncoder\n",
    "label_encoder = LabelEncoder()\n",
    "\n",
    "# Кодировка категориальных столбцов\n",
    "for col in ['7']:\n",
    "    df_train_encoded[col] = label_encoder.fit_transform(df_train[col])\n",
    "    df_test_encoded[col] = label_encoder.transform(df_test[col])\n",
    "\n",
    "# !!! pd.get_dummies(df, columns=[''], drop_first=True) !!!\n",
    "\n",
    "# Количество столбцов в тестовых данных после кодировки\n",
    "columns_after_encoding = df_test_encoded.shape\n",
    "\n",
    "# Вывод результата\n",
    "print(f\"Количество столбцов в тестовых данных после кодировки: {columns_after_encoding}\")\n"
   ],
   "metadata": {
    "collapsed": false,
    "ExecuteTime": {
     "end_time": "2024-03-10T08:08:20.882660Z",
     "start_time": "2024-03-10T08:08:20.863684Z"
    }
   }
  },
  {
   "cell_type": "code",
   "execution_count": 43,
   "outputs": [
    {
     "data": {
      "text/plain": "     0      1       2  3  4  5      6  7  8   9  10  11   12    13\n107  1  25.00  11.250  2  8  4  2.500  0  1  17   0   2  200  1209\n29   1  18.83   0.415  1  8  4  0.165  1  1   1   0   2  200     2\n10   1  22.17  12.125  2  8  4  3.335  1  1   2   1   2  180   174",
      "text/html": "<div>\n<style scoped>\n    .dataframe tbody tr th:only-of-type {\n        vertical-align: middle;\n    }\n\n    .dataframe tbody tr th {\n        vertical-align: top;\n    }\n\n    .dataframe thead th {\n        text-align: right;\n    }\n</style>\n<table border=\"1\" class=\"dataframe\">\n  <thead>\n    <tr style=\"text-align: right;\">\n      <th></th>\n      <th>0</th>\n      <th>1</th>\n      <th>2</th>\n      <th>3</th>\n      <th>4</th>\n      <th>5</th>\n      <th>6</th>\n      <th>7</th>\n      <th>8</th>\n      <th>9</th>\n      <th>10</th>\n      <th>11</th>\n      <th>12</th>\n      <th>13</th>\n    </tr>\n  </thead>\n  <tbody>\n    <tr>\n      <th>107</th>\n      <td>1</td>\n      <td>25.00</td>\n      <td>11.250</td>\n      <td>2</td>\n      <td>8</td>\n      <td>4</td>\n      <td>2.500</td>\n      <td>0</td>\n      <td>1</td>\n      <td>17</td>\n      <td>0</td>\n      <td>2</td>\n      <td>200</td>\n      <td>1209</td>\n    </tr>\n    <tr>\n      <th>29</th>\n      <td>1</td>\n      <td>18.83</td>\n      <td>0.415</td>\n      <td>1</td>\n      <td>8</td>\n      <td>4</td>\n      <td>0.165</td>\n      <td>1</td>\n      <td>1</td>\n      <td>1</td>\n      <td>0</td>\n      <td>2</td>\n      <td>200</td>\n      <td>2</td>\n    </tr>\n    <tr>\n      <th>10</th>\n      <td>1</td>\n      <td>22.17</td>\n      <td>12.125</td>\n      <td>2</td>\n      <td>8</td>\n      <td>4</td>\n      <td>3.335</td>\n      <td>1</td>\n      <td>1</td>\n      <td>2</td>\n      <td>1</td>\n      <td>2</td>\n      <td>180</td>\n      <td>174</td>\n    </tr>\n  </tbody>\n</table>\n</div>"
     },
     "execution_count": 43,
     "metadata": {},
     "output_type": "execute_result"
    }
   ],
   "source": [
    "df_test_encoded.sample(3)"
   ],
   "metadata": {
    "collapsed": false,
    "ExecuteTime": {
     "end_time": "2024-03-10T08:08:31.415560Z",
     "start_time": "2024-03-10T08:08:31.412777Z"
    }
   }
  },
  {
   "cell_type": "code",
   "execution_count": 40,
   "outputs": [
    {
     "data": {
      "text/plain": "     0      1      2  3   4  5      6  7  8  9  10  11   12      13 target\n420  1  22.67  10.50  2  11  8  1.335  A  0  0   0   2  100     1.0      1\n94   0  45.83  10.50  2  11  4  5.000  A  1  7   1   2    0     1.0      1\n57   1  29.50   0.58  2   9  4  0.290  B  1  1   0   2  340  2804.0      0",
      "text/html": "<div>\n<style scoped>\n    .dataframe tbody tr th:only-of-type {\n        vertical-align: middle;\n    }\n\n    .dataframe tbody tr th {\n        vertical-align: top;\n    }\n\n    .dataframe thead th {\n        text-align: right;\n    }\n</style>\n<table border=\"1\" class=\"dataframe\">\n  <thead>\n    <tr style=\"text-align: right;\">\n      <th></th>\n      <th>0</th>\n      <th>1</th>\n      <th>2</th>\n      <th>3</th>\n      <th>4</th>\n      <th>5</th>\n      <th>6</th>\n      <th>7</th>\n      <th>8</th>\n      <th>9</th>\n      <th>10</th>\n      <th>11</th>\n      <th>12</th>\n      <th>13</th>\n      <th>target</th>\n    </tr>\n  </thead>\n  <tbody>\n    <tr>\n      <th>420</th>\n      <td>1</td>\n      <td>22.67</td>\n      <td>10.50</td>\n      <td>2</td>\n      <td>11</td>\n      <td>8</td>\n      <td>1.335</td>\n      <td>A</td>\n      <td>0</td>\n      <td>0</td>\n      <td>0</td>\n      <td>2</td>\n      <td>100</td>\n      <td>1.0</td>\n      <td>1</td>\n    </tr>\n    <tr>\n      <th>94</th>\n      <td>0</td>\n      <td>45.83</td>\n      <td>10.50</td>\n      <td>2</td>\n      <td>11</td>\n      <td>4</td>\n      <td>5.000</td>\n      <td>A</td>\n      <td>1</td>\n      <td>7</td>\n      <td>1</td>\n      <td>2</td>\n      <td>0</td>\n      <td>1.0</td>\n      <td>1</td>\n    </tr>\n    <tr>\n      <th>57</th>\n      <td>1</td>\n      <td>29.50</td>\n      <td>0.58</td>\n      <td>2</td>\n      <td>9</td>\n      <td>4</td>\n      <td>0.290</td>\n      <td>B</td>\n      <td>1</td>\n      <td>1</td>\n      <td>0</td>\n      <td>2</td>\n      <td>340</td>\n      <td>2804.0</td>\n      <td>0</td>\n    </tr>\n  </tbody>\n</table>\n</div>"
     },
     "execution_count": 40,
     "metadata": {},
     "output_type": "execute_result"
    }
   ],
   "source": [
    "df_train.sample(3)"
   ],
   "metadata": {
    "collapsed": false,
    "ExecuteTime": {
     "end_time": "2024-03-10T08:07:37.071149Z",
     "start_time": "2024-03-10T08:07:37.067258Z"
    }
   }
  },
  {
   "cell_type": "code",
   "execution_count": null,
   "outputs": [],
   "source": [
    "from sklearn.model_selection import cross_val_score\n",
    "from sklearn.linear_model import LogisticRegression\n",
    "from sklearn.metrics import make_scorer, f1_score\n",
    "\n",
    "# Разделение на целевой вектор и матрицу объект-признак\n",
    "y_train = df_train_encoded['target']\n",
    "X_train = df_train_encoded.drop(columns=['target'])\n",
    "\n",
    "# Инициализация и обучение логистической регрессии\n",
    "model = LogisticRegression(random_state=42)\n",
    "model.fit(X_train, y_train)\n",
    "\n",
    "# Оценка среднего значения F1-score на кросс-валидации\n",
    "f1_mean = cross_val_score(model, X_train, y_train, cv=3, scoring=make_scorer(f1_score)).mean()\n",
    "\n",
    "# Вывод результата\n",
    "print(f\"Среднее значение F1-score на кросс-валидации: {f1_mean:.2f}\")"
   ],
   "metadata": {
    "collapsed": false
   }
  },
  {
   "cell_type": "code",
   "execution_count": null,
   "outputs": [],
   "source": [
    "from sklearn.tree import DecisionTreeClassifier\n",
    "from sklearn.model_selection import cross_val_score, GridSearchCV\n",
    "\n",
    "params = {'max_depth': np.arange(2, 20, 1)}\n",
    "gs = GridSearchCV(DecisionTreeClassifier(), params, cv=3, scoring='roc_auc')\n",
    "gs.fit(X, y)\n",
    "\n",
    "gs.best_params_"
   ],
   "metadata": {
    "collapsed": false
   }
  },
  {
   "cell_type": "code",
   "execution_count": null,
   "outputs": [],
   "source": [],
   "metadata": {
    "collapsed": false
   }
  },
  {
   "cell_type": "code",
   "execution_count": 16,
   "outputs": [],
   "source": [
    "import pandas as pd\n",
    "\n",
    "df_train = pd.read_csv('TrainData.csv')\n",
    "df_test = pd.read_csv('TestData.csv')"
   ],
   "metadata": {
    "collapsed": false,
    "ExecuteTime": {
     "end_time": "2024-03-17T12:04:49.611739Z",
     "start_time": "2024-03-17T12:04:49.599228Z"
    }
   }
  },
  {
   "cell_type": "code",
   "execution_count": 9,
   "outputs": [
    {
     "data": {
      "text/plain": "     0          1      2  3   4  5       6  7  8   9  10  11   12      13  \\\n0    1  34.750000  15.00  2  12  7   5.375  A  1   9   1   2    0   135.0   \n1    1  19.170000   4.00  1   3  4   1.000  B  0   0   1   2  360  1001.0   \n2    1  20.250000   9.96  2  10  2   0.000  A  0   0   0   2    0     1.0   \n3    1  31.283225  28.00  1   8  4  28.500  A  1  40   0   2    0    16.0   \n4    1  22.580000   1.50  1   6  4   0.540  B  0   0   1   2  120    68.0   \n..  ..        ...    ... ..  .. ..     ... .. ..  ..  ..  ..  ...     ...   \n508  0  37.330000   2.50  2   3  8   0.210  B  0   0   0   2  260   247.0   \n509  0  24.750000   3.00  2  11  8   1.835  A  1  19   0   2    0   501.0   \n510  1  31.315675   8.50  2  10  8   7.000  A  1   3   0   2    0     1.0   \n511  1  31.315675   3.00  2  11  8   6.000  A  1  11   0   2   80     1.0   \n512  0  26.920000  13.50  2  11  8   5.000  A  1   2   0   2    0  5001.0   \n\n     target  \n0         1  \n1         0  \n2         1  \n3         1  \n4         0  \n..      ...  \n508       0  \n509       1  \n510       1  \n511       1  \n512       1  \n\n[513 rows x 15 columns]",
      "text/html": "<div>\n<style scoped>\n    .dataframe tbody tr th:only-of-type {\n        vertical-align: middle;\n    }\n\n    .dataframe tbody tr th {\n        vertical-align: top;\n    }\n\n    .dataframe thead th {\n        text-align: right;\n    }\n</style>\n<table border=\"1\" class=\"dataframe\">\n  <thead>\n    <tr style=\"text-align: right;\">\n      <th></th>\n      <th>0</th>\n      <th>1</th>\n      <th>2</th>\n      <th>3</th>\n      <th>4</th>\n      <th>5</th>\n      <th>6</th>\n      <th>7</th>\n      <th>8</th>\n      <th>9</th>\n      <th>10</th>\n      <th>11</th>\n      <th>12</th>\n      <th>13</th>\n      <th>target</th>\n    </tr>\n  </thead>\n  <tbody>\n    <tr>\n      <th>0</th>\n      <td>1</td>\n      <td>34.750000</td>\n      <td>15.00</td>\n      <td>2</td>\n      <td>12</td>\n      <td>7</td>\n      <td>5.375</td>\n      <td>A</td>\n      <td>1</td>\n      <td>9</td>\n      <td>1</td>\n      <td>2</td>\n      <td>0</td>\n      <td>135.0</td>\n      <td>1</td>\n    </tr>\n    <tr>\n      <th>1</th>\n      <td>1</td>\n      <td>19.170000</td>\n      <td>4.00</td>\n      <td>1</td>\n      <td>3</td>\n      <td>4</td>\n      <td>1.000</td>\n      <td>B</td>\n      <td>0</td>\n      <td>0</td>\n      <td>1</td>\n      <td>2</td>\n      <td>360</td>\n      <td>1001.0</td>\n      <td>0</td>\n    </tr>\n    <tr>\n      <th>2</th>\n      <td>1</td>\n      <td>20.250000</td>\n      <td>9.96</td>\n      <td>2</td>\n      <td>10</td>\n      <td>2</td>\n      <td>0.000</td>\n      <td>A</td>\n      <td>0</td>\n      <td>0</td>\n      <td>0</td>\n      <td>2</td>\n      <td>0</td>\n      <td>1.0</td>\n      <td>1</td>\n    </tr>\n    <tr>\n      <th>3</th>\n      <td>1</td>\n      <td>31.283225</td>\n      <td>28.00</td>\n      <td>1</td>\n      <td>8</td>\n      <td>4</td>\n      <td>28.500</td>\n      <td>A</td>\n      <td>1</td>\n      <td>40</td>\n      <td>0</td>\n      <td>2</td>\n      <td>0</td>\n      <td>16.0</td>\n      <td>1</td>\n    </tr>\n    <tr>\n      <th>4</th>\n      <td>1</td>\n      <td>22.580000</td>\n      <td>1.50</td>\n      <td>1</td>\n      <td>6</td>\n      <td>4</td>\n      <td>0.540</td>\n      <td>B</td>\n      <td>0</td>\n      <td>0</td>\n      <td>1</td>\n      <td>2</td>\n      <td>120</td>\n      <td>68.0</td>\n      <td>0</td>\n    </tr>\n    <tr>\n      <th>...</th>\n      <td>...</td>\n      <td>...</td>\n      <td>...</td>\n      <td>...</td>\n      <td>...</td>\n      <td>...</td>\n      <td>...</td>\n      <td>...</td>\n      <td>...</td>\n      <td>...</td>\n      <td>...</td>\n      <td>...</td>\n      <td>...</td>\n      <td>...</td>\n      <td>...</td>\n    </tr>\n    <tr>\n      <th>508</th>\n      <td>0</td>\n      <td>37.330000</td>\n      <td>2.50</td>\n      <td>2</td>\n      <td>3</td>\n      <td>8</td>\n      <td>0.210</td>\n      <td>B</td>\n      <td>0</td>\n      <td>0</td>\n      <td>0</td>\n      <td>2</td>\n      <td>260</td>\n      <td>247.0</td>\n      <td>0</td>\n    </tr>\n    <tr>\n      <th>509</th>\n      <td>0</td>\n      <td>24.750000</td>\n      <td>3.00</td>\n      <td>2</td>\n      <td>11</td>\n      <td>8</td>\n      <td>1.835</td>\n      <td>A</td>\n      <td>1</td>\n      <td>19</td>\n      <td>0</td>\n      <td>2</td>\n      <td>0</td>\n      <td>501.0</td>\n      <td>1</td>\n    </tr>\n    <tr>\n      <th>510</th>\n      <td>1</td>\n      <td>31.315675</td>\n      <td>8.50</td>\n      <td>2</td>\n      <td>10</td>\n      <td>8</td>\n      <td>7.000</td>\n      <td>A</td>\n      <td>1</td>\n      <td>3</td>\n      <td>0</td>\n      <td>2</td>\n      <td>0</td>\n      <td>1.0</td>\n      <td>1</td>\n    </tr>\n    <tr>\n      <th>511</th>\n      <td>1</td>\n      <td>31.315675</td>\n      <td>3.00</td>\n      <td>2</td>\n      <td>11</td>\n      <td>8</td>\n      <td>6.000</td>\n      <td>A</td>\n      <td>1</td>\n      <td>11</td>\n      <td>0</td>\n      <td>2</td>\n      <td>80</td>\n      <td>1.0</td>\n      <td>1</td>\n    </tr>\n    <tr>\n      <th>512</th>\n      <td>0</td>\n      <td>26.920000</td>\n      <td>13.50</td>\n      <td>2</td>\n      <td>11</td>\n      <td>8</td>\n      <td>5.000</td>\n      <td>A</td>\n      <td>1</td>\n      <td>2</td>\n      <td>0</td>\n      <td>2</td>\n      <td>0</td>\n      <td>5001.0</td>\n      <td>1</td>\n    </tr>\n  </tbody>\n</table>\n<p>513 rows × 15 columns</p>\n</div>"
     },
     "execution_count": 9,
     "metadata": {},
     "output_type": "execute_result"
    }
   ],
   "source": [
    "df_train"
   ],
   "metadata": {
    "collapsed": false,
    "ExecuteTime": {
     "end_time": "2024-03-17T12:03:05.125752Z",
     "start_time": "2024-03-17T12:03:05.079771Z"
    }
   }
  },
  {
   "cell_type": "code",
   "execution_count": 7,
   "outputs": [
    {
     "data": {
      "text/plain": "   0          1      2  3   4  5       6  7  8   9  10  11   12      13  \\\n0  1  34.750000  15.00  2  12  7   5.375  A  1   9   1   2    0   135.0   \n1  1  19.170000   4.00  1   3  4   1.000  B  0   0   1   2  360  1001.0   \n2  1  20.250000   9.96  2  10  2   0.000  A  0   0   0   2    0     1.0   \n3  1  31.283225  28.00  1   8  4  28.500  A  1  40   0   2    0    16.0   \n4  1  22.580000   1.50  1   6  4   0.540  B  0   0   1   2  120    68.0   \n\n      target  \n0      Churn  \n1  Not churn  \n2      Churn  \n3      Churn  \n4  Not churn  ",
      "text/html": "<div>\n<style scoped>\n    .dataframe tbody tr th:only-of-type {\n        vertical-align: middle;\n    }\n\n    .dataframe tbody tr th {\n        vertical-align: top;\n    }\n\n    .dataframe thead th {\n        text-align: right;\n    }\n</style>\n<table border=\"1\" class=\"dataframe\">\n  <thead>\n    <tr style=\"text-align: right;\">\n      <th></th>\n      <th>0</th>\n      <th>1</th>\n      <th>2</th>\n      <th>3</th>\n      <th>4</th>\n      <th>5</th>\n      <th>6</th>\n      <th>7</th>\n      <th>8</th>\n      <th>9</th>\n      <th>10</th>\n      <th>11</th>\n      <th>12</th>\n      <th>13</th>\n      <th>target</th>\n    </tr>\n  </thead>\n  <tbody>\n    <tr>\n      <th>0</th>\n      <td>1</td>\n      <td>34.750000</td>\n      <td>15.00</td>\n      <td>2</td>\n      <td>12</td>\n      <td>7</td>\n      <td>5.375</td>\n      <td>A</td>\n      <td>1</td>\n      <td>9</td>\n      <td>1</td>\n      <td>2</td>\n      <td>0</td>\n      <td>135.0</td>\n      <td>Churn</td>\n    </tr>\n    <tr>\n      <th>1</th>\n      <td>1</td>\n      <td>19.170000</td>\n      <td>4.00</td>\n      <td>1</td>\n      <td>3</td>\n      <td>4</td>\n      <td>1.000</td>\n      <td>B</td>\n      <td>0</td>\n      <td>0</td>\n      <td>1</td>\n      <td>2</td>\n      <td>360</td>\n      <td>1001.0</td>\n      <td>Not churn</td>\n    </tr>\n    <tr>\n      <th>2</th>\n      <td>1</td>\n      <td>20.250000</td>\n      <td>9.96</td>\n      <td>2</td>\n      <td>10</td>\n      <td>2</td>\n      <td>0.000</td>\n      <td>A</td>\n      <td>0</td>\n      <td>0</td>\n      <td>0</td>\n      <td>2</td>\n      <td>0</td>\n      <td>1.0</td>\n      <td>Churn</td>\n    </tr>\n    <tr>\n      <th>3</th>\n      <td>1</td>\n      <td>31.283225</td>\n      <td>28.00</td>\n      <td>1</td>\n      <td>8</td>\n      <td>4</td>\n      <td>28.500</td>\n      <td>A</td>\n      <td>1</td>\n      <td>40</td>\n      <td>0</td>\n      <td>2</td>\n      <td>0</td>\n      <td>16.0</td>\n      <td>Churn</td>\n    </tr>\n    <tr>\n      <th>4</th>\n      <td>1</td>\n      <td>22.580000</td>\n      <td>1.50</td>\n      <td>1</td>\n      <td>6</td>\n      <td>4</td>\n      <td>0.540</td>\n      <td>B</td>\n      <td>0</td>\n      <td>0</td>\n      <td>1</td>\n      <td>2</td>\n      <td>120</td>\n      <td>68.0</td>\n      <td>Not churn</td>\n    </tr>\n  </tbody>\n</table>\n</div>"
     },
     "execution_count": 7,
     "metadata": {},
     "output_type": "execute_result"
    }
   ],
   "source": [
    "df_train.head()"
   ],
   "metadata": {
    "collapsed": false,
    "ExecuteTime": {
     "end_time": "2024-03-17T12:01:41.430445Z",
     "start_time": "2024-03-17T12:01:41.422567Z"
    }
   }
  },
  {
   "cell_type": "code",
   "execution_count": 17,
   "outputs": [
    {
     "data": {
      "text/plain": "    0      1      2  3   4  5     6  7  8  9  10  11   12   13     target\n19  1  21.25  1.500  2   9  4  1.50  B  0  0   0   2  150  9.0      Chorn\n80  0  22.67  0.335  2  11  4  0.75  B  0  0   0   1  160  1.0  Not chorn",
      "text/html": "<div>\n<style scoped>\n    .dataframe tbody tr th:only-of-type {\n        vertical-align: middle;\n    }\n\n    .dataframe tbody tr th {\n        vertical-align: top;\n    }\n\n    .dataframe thead th {\n        text-align: right;\n    }\n</style>\n<table border=\"1\" class=\"dataframe\">\n  <thead>\n    <tr style=\"text-align: right;\">\n      <th></th>\n      <th>0</th>\n      <th>1</th>\n      <th>2</th>\n      <th>3</th>\n      <th>4</th>\n      <th>5</th>\n      <th>6</th>\n      <th>7</th>\n      <th>8</th>\n      <th>9</th>\n      <th>10</th>\n      <th>11</th>\n      <th>12</th>\n      <th>13</th>\n      <th>target</th>\n    </tr>\n  </thead>\n  <tbody>\n    <tr>\n      <th>19</th>\n      <td>1</td>\n      <td>21.25</td>\n      <td>1.500</td>\n      <td>2</td>\n      <td>9</td>\n      <td>4</td>\n      <td>1.50</td>\n      <td>B</td>\n      <td>0</td>\n      <td>0</td>\n      <td>0</td>\n      <td>2</td>\n      <td>150</td>\n      <td>9.0</td>\n      <td>Chorn</td>\n    </tr>\n    <tr>\n      <th>80</th>\n      <td>0</td>\n      <td>22.67</td>\n      <td>0.335</td>\n      <td>2</td>\n      <td>11</td>\n      <td>4</td>\n      <td>0.75</td>\n      <td>B</td>\n      <td>0</td>\n      <td>0</td>\n      <td>0</td>\n      <td>1</td>\n      <td>160</td>\n      <td>1.0</td>\n      <td>Not chorn</td>\n    </tr>\n  </tbody>\n</table>\n</div>"
     },
     "execution_count": 17,
     "metadata": {},
     "output_type": "execute_result"
    }
   ],
   "source": [
    "df_train[(df_train['target'] != 'Churn') & (df_train['target'] != 'Not churn')]"
   ],
   "metadata": {
    "collapsed": false,
    "ExecuteTime": {
     "end_time": "2024-03-17T12:04:51.535659Z",
     "start_time": "2024-03-17T12:04:51.519727Z"
    }
   }
  },
  {
   "cell_type": "code",
   "execution_count": 23,
   "outputs": [
    {
     "data": {
      "text/plain": "     0          1      2  3   4  5       6  7  8   9  10  11   12      13  \\\n0    1  34.750000  15.00  2  12  7   5.375  A  1   9   1   2    0   135.0   \n2    1  20.250000   9.96  2  10  2   0.000  A  0   0   0   2    0     1.0   \n3    1        NaN  28.00  1   8  4  28.500  A  1  40   0   2    0    16.0   \n5    0  28.500000   1.00  2  11  4   1.000  A  1   2   1   2  167   501.0   \n6    1  31.570000   4.00  2  14  4   5.000  A  1   3   1   2  290  2280.0   \n..  ..        ...    ... ..  .. ..     ... .. ..  ..  ..  ..  ...     ...   \n505  0  27.670000   1.50  2   7  4   2.000  A  0   0   0   1  368     1.0   \n509  0  24.750000   3.00  2  11  8   1.835  A  1  19   0   2    0   501.0   \n510  1  31.315675   8.50  2  10  8   7.000  A  1   3   0   2    0     1.0   \n511  1  31.315675   3.00  2  11  8   6.000  A  1  11   0   2   80     1.0   \n512  0  26.920000  13.50  2  11  8   5.000  A  1   2   0   2    0  5001.0   \n\n     target  \n0         1  \n2         1  \n3         1  \n5         0  \n6         1  \n..      ...  \n505       0  \n509       1  \n510       1  \n511       1  \n512       1  \n\n[279 rows x 15 columns]",
      "text/html": "<div>\n<style scoped>\n    .dataframe tbody tr th:only-of-type {\n        vertical-align: middle;\n    }\n\n    .dataframe tbody tr th {\n        vertical-align: top;\n    }\n\n    .dataframe thead th {\n        text-align: right;\n    }\n</style>\n<table border=\"1\" class=\"dataframe\">\n  <thead>\n    <tr style=\"text-align: right;\">\n      <th></th>\n      <th>0</th>\n      <th>1</th>\n      <th>2</th>\n      <th>3</th>\n      <th>4</th>\n      <th>5</th>\n      <th>6</th>\n      <th>7</th>\n      <th>8</th>\n      <th>9</th>\n      <th>10</th>\n      <th>11</th>\n      <th>12</th>\n      <th>13</th>\n      <th>target</th>\n    </tr>\n  </thead>\n  <tbody>\n    <tr>\n      <th>0</th>\n      <td>1</td>\n      <td>34.750000</td>\n      <td>15.00</td>\n      <td>2</td>\n      <td>12</td>\n      <td>7</td>\n      <td>5.375</td>\n      <td>A</td>\n      <td>1</td>\n      <td>9</td>\n      <td>1</td>\n      <td>2</td>\n      <td>0</td>\n      <td>135.0</td>\n      <td>1</td>\n    </tr>\n    <tr>\n      <th>2</th>\n      <td>1</td>\n      <td>20.250000</td>\n      <td>9.96</td>\n      <td>2</td>\n      <td>10</td>\n      <td>2</td>\n      <td>0.000</td>\n      <td>A</td>\n      <td>0</td>\n      <td>0</td>\n      <td>0</td>\n      <td>2</td>\n      <td>0</td>\n      <td>1.0</td>\n      <td>1</td>\n    </tr>\n    <tr>\n      <th>3</th>\n      <td>1</td>\n      <td>NaN</td>\n      <td>28.00</td>\n      <td>1</td>\n      <td>8</td>\n      <td>4</td>\n      <td>28.500</td>\n      <td>A</td>\n      <td>1</td>\n      <td>40</td>\n      <td>0</td>\n      <td>2</td>\n      <td>0</td>\n      <td>16.0</td>\n      <td>1</td>\n    </tr>\n    <tr>\n      <th>5</th>\n      <td>0</td>\n      <td>28.500000</td>\n      <td>1.00</td>\n      <td>2</td>\n      <td>11</td>\n      <td>4</td>\n      <td>1.000</td>\n      <td>A</td>\n      <td>1</td>\n      <td>2</td>\n      <td>1</td>\n      <td>2</td>\n      <td>167</td>\n      <td>501.0</td>\n      <td>0</td>\n    </tr>\n    <tr>\n      <th>6</th>\n      <td>1</td>\n      <td>31.570000</td>\n      <td>4.00</td>\n      <td>2</td>\n      <td>14</td>\n      <td>4</td>\n      <td>5.000</td>\n      <td>A</td>\n      <td>1</td>\n      <td>3</td>\n      <td>1</td>\n      <td>2</td>\n      <td>290</td>\n      <td>2280.0</td>\n      <td>1</td>\n    </tr>\n    <tr>\n      <th>...</th>\n      <td>...</td>\n      <td>...</td>\n      <td>...</td>\n      <td>...</td>\n      <td>...</td>\n      <td>...</td>\n      <td>...</td>\n      <td>...</td>\n      <td>...</td>\n      <td>...</td>\n      <td>...</td>\n      <td>...</td>\n      <td>...</td>\n      <td>...</td>\n      <td>...</td>\n    </tr>\n    <tr>\n      <th>505</th>\n      <td>0</td>\n      <td>27.670000</td>\n      <td>1.50</td>\n      <td>2</td>\n      <td>7</td>\n      <td>4</td>\n      <td>2.000</td>\n      <td>A</td>\n      <td>0</td>\n      <td>0</td>\n      <td>0</td>\n      <td>1</td>\n      <td>368</td>\n      <td>1.0</td>\n      <td>0</td>\n    </tr>\n    <tr>\n      <th>509</th>\n      <td>0</td>\n      <td>24.750000</td>\n      <td>3.00</td>\n      <td>2</td>\n      <td>11</td>\n      <td>8</td>\n      <td>1.835</td>\n      <td>A</td>\n      <td>1</td>\n      <td>19</td>\n      <td>0</td>\n      <td>2</td>\n      <td>0</td>\n      <td>501.0</td>\n      <td>1</td>\n    </tr>\n    <tr>\n      <th>510</th>\n      <td>1</td>\n      <td>31.315675</td>\n      <td>8.50</td>\n      <td>2</td>\n      <td>10</td>\n      <td>8</td>\n      <td>7.000</td>\n      <td>A</td>\n      <td>1</td>\n      <td>3</td>\n      <td>0</td>\n      <td>2</td>\n      <td>0</td>\n      <td>1.0</td>\n      <td>1</td>\n    </tr>\n    <tr>\n      <th>511</th>\n      <td>1</td>\n      <td>31.315675</td>\n      <td>3.00</td>\n      <td>2</td>\n      <td>11</td>\n      <td>8</td>\n      <td>6.000</td>\n      <td>A</td>\n      <td>1</td>\n      <td>11</td>\n      <td>0</td>\n      <td>2</td>\n      <td>80</td>\n      <td>1.0</td>\n      <td>1</td>\n    </tr>\n    <tr>\n      <th>512</th>\n      <td>0</td>\n      <td>26.920000</td>\n      <td>13.50</td>\n      <td>2</td>\n      <td>11</td>\n      <td>8</td>\n      <td>5.000</td>\n      <td>A</td>\n      <td>1</td>\n      <td>2</td>\n      <td>0</td>\n      <td>2</td>\n      <td>0</td>\n      <td>5001.0</td>\n      <td>1</td>\n    </tr>\n  </tbody>\n</table>\n<p>279 rows × 15 columns</p>\n</div>"
     },
     "execution_count": 23,
     "metadata": {},
     "output_type": "execute_result"
    }
   ],
   "source": [
    "df_train[df_train['7'] == 'A']"
   ],
   "metadata": {
    "collapsed": false,
    "ExecuteTime": {
     "end_time": "2024-03-17T12:07:48.212993Z",
     "start_time": "2024-03-17T12:07:48.204736Z"
    }
   }
  },
  {
   "cell_type": "code",
   "execution_count": 4,
   "outputs": [
    {
     "data": {
      "text/plain": "   0      1       2  3   4  5      6  7  8  9  10  11   12   13\n0  1  32.08   4.000  1  13  4  1.500  B  0  0   1   2  120    1\n1  0  23.50   1.500  2   9  4  0.875  B  0  0   1   2  160    1\n2  0  33.25   2.500  1   8  4  2.500  B  0  0   1   2    0    3\n3  1  74.83  19.000  1   1  1  0.040  B  1  2   0   2    0  352\n4  1  20.17   5.625  2   9  4  1.710  A  0  0   0   1  120    1",
      "text/html": "<div>\n<style scoped>\n    .dataframe tbody tr th:only-of-type {\n        vertical-align: middle;\n    }\n\n    .dataframe tbody tr th {\n        vertical-align: top;\n    }\n\n    .dataframe thead th {\n        text-align: right;\n    }\n</style>\n<table border=\"1\" class=\"dataframe\">\n  <thead>\n    <tr style=\"text-align: right;\">\n      <th></th>\n      <th>0</th>\n      <th>1</th>\n      <th>2</th>\n      <th>3</th>\n      <th>4</th>\n      <th>5</th>\n      <th>6</th>\n      <th>7</th>\n      <th>8</th>\n      <th>9</th>\n      <th>10</th>\n      <th>11</th>\n      <th>12</th>\n      <th>13</th>\n    </tr>\n  </thead>\n  <tbody>\n    <tr>\n      <th>0</th>\n      <td>1</td>\n      <td>32.08</td>\n      <td>4.000</td>\n      <td>1</td>\n      <td>13</td>\n      <td>4</td>\n      <td>1.500</td>\n      <td>B</td>\n      <td>0</td>\n      <td>0</td>\n      <td>1</td>\n      <td>2</td>\n      <td>120</td>\n      <td>1</td>\n    </tr>\n    <tr>\n      <th>1</th>\n      <td>0</td>\n      <td>23.50</td>\n      <td>1.500</td>\n      <td>2</td>\n      <td>9</td>\n      <td>4</td>\n      <td>0.875</td>\n      <td>B</td>\n      <td>0</td>\n      <td>0</td>\n      <td>1</td>\n      <td>2</td>\n      <td>160</td>\n      <td>1</td>\n    </tr>\n    <tr>\n      <th>2</th>\n      <td>0</td>\n      <td>33.25</td>\n      <td>2.500</td>\n      <td>1</td>\n      <td>8</td>\n      <td>4</td>\n      <td>2.500</td>\n      <td>B</td>\n      <td>0</td>\n      <td>0</td>\n      <td>1</td>\n      <td>2</td>\n      <td>0</td>\n      <td>3</td>\n    </tr>\n    <tr>\n      <th>3</th>\n      <td>1</td>\n      <td>74.83</td>\n      <td>19.000</td>\n      <td>1</td>\n      <td>1</td>\n      <td>1</td>\n      <td>0.040</td>\n      <td>B</td>\n      <td>1</td>\n      <td>2</td>\n      <td>0</td>\n      <td>2</td>\n      <td>0</td>\n      <td>352</td>\n    </tr>\n    <tr>\n      <th>4</th>\n      <td>1</td>\n      <td>20.17</td>\n      <td>5.625</td>\n      <td>2</td>\n      <td>9</td>\n      <td>4</td>\n      <td>1.710</td>\n      <td>A</td>\n      <td>0</td>\n      <td>0</td>\n      <td>0</td>\n      <td>1</td>\n      <td>120</td>\n      <td>1</td>\n    </tr>\n  </tbody>\n</table>\n</div>"
     },
     "execution_count": 4,
     "metadata": {},
     "output_type": "execute_result"
    }
   ],
   "source": [
    "df_test.head()"
   ],
   "metadata": {
    "collapsed": false,
    "ExecuteTime": {
     "end_time": "2024-03-17T11:59:01.117020Z",
     "start_time": "2024-03-17T11:59:01.106532Z"
    }
   }
  },
  {
   "cell_type": "code",
   "execution_count": 5,
   "outputs": [
    {
     "name": "stdout",
     "output_type": "stream",
     "text": [
      "Среднее значение в столбце с наибольшим количеством пропусков в обучающем наборе данных: 31.3\n",
      "Среднее значение в столбце с наибольшим количеством пропусков в тестовом наборе данных: 0.7\n"
     ]
    },
    {
     "data": {
      "text/plain": "31.3"
     },
     "execution_count": 5,
     "metadata": {},
     "output_type": "execute_result"
    }
   ],
   "source": [
    "max_na_column_train = df_train.isna().sum().idxmax()\n",
    "max_na_column_test = df_test.isna().sum().idxmax()\n",
    "\n",
    "mean_value_train = df_train[max_na_column_train].mean()\n",
    "mean_value_test = df_test[max_na_column_test].mean()\n",
    "df_train[max_na_column_train].fillna(mean_value_train, inplace=True)\n",
    "df_test[max_na_column_test].fillna(mean_value_test, inplace=True)\n",
    "\n",
    "mean_value_train_rounded = round(mean_value_train, 1)\n",
    "mean_value_test_rounded = round(mean_value_test, 1)\n",
    "\n",
    "print(\"Среднее значение в столбце с наибольшим количеством пропусков в обучающем наборе данных:\", mean_value_train_rounded)\n",
    "print(\"Среднее значение в столбце с наибольшим количеством пропусков в тестовом наборе данных:\", mean_value_test_rounded)\n",
    "\n",
    "answer = mean_value_train_rounded\n",
    "answer"
   ],
   "metadata": {
    "collapsed": false,
    "ExecuteTime": {
     "end_time": "2024-03-17T11:59:55.278426Z",
     "start_time": "2024-03-17T11:59:55.274307Z"
    }
   }
  },
  {
   "cell_type": "code",
   "execution_count": 18,
   "outputs": [
    {
     "name": "stdout",
     "output_type": "stream",
     "text": [
      "Количество исправленных опечаток: 2\n"
     ]
    }
   ],
   "source": [
    "# Определяем опечатки в названиях категорий целевой переменной\n",
    "typo_count = df_train['target'].apply(lambda x: 1 if x.lower().strip() not in ['churn', 'not churn'] else 0).sum()\n",
    "\n",
    "# Исправляем опечатки в названиях категорий целевой переменной\n",
    "df_train['target'] = df_train['target'].apply(lambda x: 'Churn' if x.lower().strip() == 'churn' or x.lower().strip() == 'chorn' else 'Not churn')\n",
    "\n",
    "# Заменяем категории на соответствующие бинарные значения\n",
    "df_train['target'] = df_train['target'].map({'Churn': 1, 'Not churn': 0})\n",
    "\n",
    "# Выводим количество исправленных опечаток\n",
    "print(\"Количество исправленных опечаток:\", typo_count)\n"
   ],
   "metadata": {
    "collapsed": false,
    "ExecuteTime": {
     "end_time": "2024-03-17T12:05:35.755506Z",
     "start_time": "2024-03-17T12:05:35.742115Z"
    }
   }
  },
  {
   "cell_type": "code",
   "execution_count": 20,
   "outputs": [
    {
     "name": "stdout",
     "output_type": "stream",
     "text": [
      "Модуль корреляции Пирсона с целевой переменной для признака 8 : 0.44\n"
     ]
    }
   ],
   "source": [
    "# Извлекаем только числовые признаки\n",
    "numeric_features = df_train.select_dtypes(include=['int64', 'float64'])\n",
    "\n",
    "# Рассчитываем корреляцию Пирсона между каждым числовым признаком и целевой переменной\n",
    "correlation = numeric_features.corrwith(df_train['target']).abs()\n",
    "\n",
    "# Находим признак с наибольшей по модулю корреляцией\n",
    "max_correlation_feature = correlation.drop('target').idxmax()\n",
    "\n",
    "# Находим модуль корреляции Пирсона для этого признака\n",
    "max_correlation_value = correlation[max_correlation_feature]\n",
    "\n",
    "# Выводим результат\n",
    "print(\"Модуль корреляции Пирсона с целевой переменной для признака\", max_correlation_feature, \":\", round(max_correlation_value, 2))\n"
   ],
   "metadata": {
    "collapsed": false,
    "ExecuteTime": {
     "end_time": "2024-03-17T12:06:51.325596Z",
     "start_time": "2024-03-17T12:06:51.314208Z"
    }
   }
  },
  {
   "cell_type": "code",
   "execution_count": 21,
   "outputs": [
    {
     "name": "stdout",
     "output_type": "stream",
     "text": [
      "Количество столбцов, содержащих менее 5 различных значений (без учета столбца target): 6\n"
     ]
    }
   ],
   "source": [
    "# Подсчитываем количество уникальных значений в каждом столбце (исключая столбец target)\n",
    "unique_counts = df_train.drop(columns=['target']).nunique()\n",
    "\n",
    "# Подсчитываем количество столбцов, содержащих менее 5 различных значений\n",
    "columns_less_than_5_unique_values = (unique_counts < 5).sum()\n",
    "\n",
    "# Выводим результат\n",
    "print(\"Количество столбцов, содержащих менее 5 различных значений (без учета столбца target):\", columns_less_than_5_unique_values)\n"
   ],
   "metadata": {
    "collapsed": false,
    "ExecuteTime": {
     "end_time": "2024-03-17T12:07:13.996764Z",
     "start_time": "2024-03-17T12:07:13.988873Z"
    }
   }
  },
  {
   "cell_type": "code",
   "execution_count": 26,
   "outputs": [
    {
     "name": "stdout",
     "output_type": "stream",
     "text": [
      "Доля ушедших из компании клиентов, для которых значение признака 2 больше среднего значения, а значение признака 13 меньше медианы: 0.51\n"
     ]
    }
   ],
   "source": [
    "# Вычисляем среднее значение по столбцу 2\n",
    "mean_feature_2 = df_train['2'].mean()\n",
    "\n",
    "# Вычисляем медиану по столбцу 13\n",
    "median_feature_13 = df_train['13'].median()\n",
    "\n",
    "# Определяем клиентов, для которых значение признака 2 больше среднего значения, а значение признака 13 меньше медианы\n",
    "filtered_clients = df_train[(df_train['2'] > mean_feature_2) & (df_train['13'] < median_feature_13)]\n",
    "\n",
    "# Вычисляем долю таких клиентов среди всех ушедших из компании клиентов\n",
    "churned_clients_percentage = filtered_clients['target'].mean()\n",
    "\n",
    "# Выводим результат\n",
    "print(\"Доля ушедших из компании клиентов, для которых значение признака 2 больше среднего значения, а значение признака 13 меньше медианы:\", round(churned_clients_percentage, 2))\n"
   ],
   "metadata": {
    "collapsed": false,
    "ExecuteTime": {
     "end_time": "2024-03-17T12:08:34.122256Z",
     "start_time": "2024-03-17T12:08:34.114982Z"
    }
   }
  },
  {
   "cell_type": "code",
   "execution_count": 27,
   "outputs": [
    {
     "name": "stdout",
     "output_type": "stream",
     "text": [
      "Количество столбцов в тестовых данных после кодировки: 14\n"
     ]
    }
   ],
   "source": [
    "from sklearn.preprocessing import LabelEncoder\n",
    "\n",
    "# Создаем копии тренировочных и тестовых данных\n",
    "df_train_encoded = df_train.copy()\n",
    "df_test_encoded = df_test.copy()\n",
    "\n",
    "# Применяем Label Encoding к категориальным столбцам\n",
    "label_encoder = LabelEncoder()\n",
    "for column in df_train_encoded.select_dtypes(include=['object']).columns:\n",
    "    df_train_encoded[column] = label_encoder.fit_transform(df_train_encoded[column])\n",
    "    df_test_encoded[column] = label_encoder.transform(df_test_encoded[column])\n",
    "\n",
    "# Определяем количество столбцов в тестовых данных после кодировки\n",
    "columns_count_after_encoding = df_test_encoded.shape[1]\n",
    "\n",
    "# Выводим результат\n",
    "print(\"Количество столбцов в тестовых данных после кодировки:\", columns_count_after_encoding)\n"
   ],
   "metadata": {
    "collapsed": false,
    "ExecuteTime": {
     "end_time": "2024-03-17T12:09:00.267163Z",
     "start_time": "2024-03-17T12:09:00.177789Z"
    }
   }
  },
  {
   "cell_type": "code",
   "execution_count": null,
   "outputs": [],
   "source": [
    "from sklearn.model_selection import cross_val_score\n",
    "from sklearn.linear_model import LogisticRegression\n",
    "\n",
    "# Разбиваем тренировочные данные на целевой вектор y и матрицу объект-признак X\n",
    "X_train = df_train_encoded.drop(columns=['target'])\n",
    "y_train = df_train_encoded['target']\n",
    "\n",
    "# Создаем модель логистической регрессии с параметрами по умолчанию и фиксируем random_state\n",
    "model = LogisticRegression(random_state=42)\n",
    "\n",
    "# Вычисляем среднее значение метрики F1-score на кросс-валидации с тремя фолдами\n",
    "f1_scores = cross_val_score(model, X_train, y_train, cv=3, scoring='f1')\n",
    "\n",
    "# Вычисляем среднее значение метрики F1-score\n",
    "mean_f1_score = f1_scores.mean()\n",
    "\n",
    "# Выводим результат\n",
    "print(\"Среднее значение метрики F1-score на кросс-валидации с тремя фолдами:\", round(mean_f1_score, 2))\n"
   ],
   "metadata": {
    "collapsed": false
   }
  },
  {
   "cell_type": "code",
   "execution_count": null,
   "outputs": [],
   "source": [],
   "metadata": {
    "collapsed": false
   }
  },
  {
   "cell_type": "code",
   "execution_count": null,
   "outputs": [],
   "source": [],
   "metadata": {
    "collapsed": false
   }
  },
  {
   "cell_type": "code",
   "execution_count": null,
   "outputs": [],
   "source": [],
   "metadata": {
    "collapsed": false
   }
  },
  {
   "cell_type": "code",
   "execution_count": null,
   "outputs": [],
   "source": [],
   "metadata": {
    "collapsed": false
   }
  },
  {
   "cell_type": "code",
   "execution_count": null,
   "outputs": [],
   "source": [],
   "metadata": {
    "collapsed": false
   }
  },
  {
   "cell_type": "code",
   "execution_count": null,
   "outputs": [],
   "source": [],
   "metadata": {
    "collapsed": false
   }
  },
  {
   "cell_type": "code",
   "execution_count": null,
   "outputs": [],
   "source": [],
   "metadata": {
    "collapsed": false
   }
  },
  {
   "cell_type": "code",
   "execution_count": null,
   "outputs": [],
   "source": [],
   "metadata": {
    "collapsed": false
   }
  },
  {
   "cell_type": "code",
   "execution_count": null,
   "outputs": [],
   "source": [],
   "metadata": {
    "collapsed": false
   }
  },
  {
   "cell_type": "code",
   "execution_count": null,
   "outputs": [],
   "source": [],
   "metadata": {
    "collapsed": false
   }
  },
  {
   "cell_type": "code",
   "execution_count": null,
   "outputs": [],
   "source": [],
   "metadata": {
    "collapsed": false
   }
  },
  {
   "cell_type": "code",
   "execution_count": null,
   "outputs": [],
   "source": [],
   "metadata": {
    "collapsed": false
   }
  },
  {
   "cell_type": "code",
   "execution_count": null,
   "outputs": [],
   "source": [],
   "metadata": {
    "collapsed": false
   }
  },
  {
   "cell_type": "code",
   "execution_count": null,
   "outputs": [],
   "source": [],
   "metadata": {
    "collapsed": false
   }
  },
  {
   "cell_type": "code",
   "execution_count": null,
   "outputs": [],
   "source": [],
   "metadata": {
    "collapsed": false
   }
  },
  {
   "cell_type": "code",
   "execution_count": null,
   "outputs": [],
   "source": [],
   "metadata": {
    "collapsed": false
   }
  },
  {
   "cell_type": "code",
   "execution_count": null,
   "outputs": [],
   "source": [],
   "metadata": {
    "collapsed": false
   }
  },
  {
   "cell_type": "code",
   "execution_count": null,
   "outputs": [],
   "source": [],
   "metadata": {
    "collapsed": false
   }
  },
  {
   "cell_type": "code",
   "execution_count": null,
   "outputs": [],
   "source": [],
   "metadata": {
    "collapsed": false
   }
  },
  {
   "cell_type": "code",
   "execution_count": null,
   "outputs": [],
   "source": [],
   "metadata": {
    "collapsed": false
   }
  }
 ],
 "metadata": {
  "kernelspec": {
   "display_name": "Python 3",
   "language": "python",
   "name": "python3"
  },
  "language_info": {
   "codemirror_mode": {
    "name": "ipython",
    "version": 2
   },
   "file_extension": ".py",
   "mimetype": "text/x-python",
   "name": "python",
   "nbconvert_exporter": "python",
   "pygments_lexer": "ipython2",
   "version": "2.7.6"
  }
 },
 "nbformat": 4,
 "nbformat_minor": 0
}
